{
 "cells": [
  {
   "cell_type": "markdown",
   "metadata": {
    "school_cell_uuid": "4c231b9112844f9f8d0d9bbb219501d1"
   },
   "source": [
    "# 셀, 터미널, 콘솔"
   ]
  },
  {
   "cell_type": "markdown",
   "metadata": {
    "school_cell_uuid": "1c306cb3d9404cb383f376acabda3935"
   },
   "source": [
    "본격적인 프로그래밍을 시작하기 전에 반드시 알아야 하는 것이 **셸**(shell)과 **터미널**(terminal), 그리고 **콘솔**(console)이다. 윈도우즈에서는 커맨드 프롬프트 라인(command prompt line), 우리말로 번역하여 **명령줄**이라고도 한다."
   ]
  },
  {
   "cell_type": "markdown",
   "metadata": {
    "school_cell_uuid": "f1e970bdcd504c29ae6d9bd6347a924a"
   },
   "source": [
    "사실 정확히 따지자면 이 단어들은 서로 같은 뜻이 아니지만 프로그램을 처음으로 시작하는 초보자는 일단 다음과 같이 같은 개념으로 생각해도 된다. "
   ]
  },
  {
   "cell_type": "markdown",
   "metadata": {
    "school_cell_uuid": "8b39a8d92aa14af8af071025ab9caf9d"
   },
   "source": [
    "> 검은 바탕에 글자만 하얗게 나오는 화면. \n",
    "\n",
    "> 커서가 반짝거리고 키보드를 타이핑하면 글자가 써진다."
   ]
  },
  {
   "cell_type": "markdown",
   "metadata": {
    "school_cell_uuid": "0ef033232e3e480bbc2f4797a4b6d296"
   },
   "source": [
    "예를 들어 다음과 같은 화면을 말한다."
   ]
  },
  {
   "cell_type": "markdown",
   "metadata": {
    "school_cell_uuid": "10d02d2d02644c048c0f970e007288a0"
   },
   "source": [
    "<img src=\"https://datascienceschool.net/upfiles/37f81435110145efb578bbb5ba7d4c63.png\" style=\"width:100%;\">"
   ]
  },
  {
   "cell_type": "markdown",
   "metadata": {
    "school_cell_uuid": "f737040abf5f42268fe86895bc5a5689"
   },
   "source": [
    "## 프롬프트\n",
    "\n",
    "셸 화면에서 항상 줄 앞에서 표시되는 글자를 **프롬프트**(prompt)라고 한다. 위 그림에서는 ```dockeruser@7e2af2c6d2d:~$``` 라는 글자가 프롬프트이다. 프롬프트는 컴퓨터의 현재 상태 등을 보여주는 동시에 셸이 사용자의 명령을 받을 준비가 되었다는 것을 알려준다.\n",
    "\n",
    "앞으로 셸 명령 예제를 보여줄 때 프롬프트까지 포함하여 보여줄 것이다. 따라서 이러한 예제들을 직접 타이핑하여 실행할 때는 프롬프트 부분은 타이핑하면 안된다."
   ]
  },
  {
   "cell_type": "markdown",
   "metadata": {
    "collapsed": true,
    "school_cell_uuid": "b83840a579a642e8aee65ecad3b971f3"
   },
   "source": [
    "## 셀 시작하기"
   ]
  },
  {
   "cell_type": "markdown",
   "metadata": {
    "school_cell_uuid": "361b47d50d9c4e8c9c5f86ec0a595c69"
   },
   "source": [
    "셸을 사용하는 것은 모든 컴퓨터 사용의 가장 기초이다. 앞으로 여러가지 데이터 분석을 수행할 때마다 자주 셸을 사용하게 될 것이다. 따라서 자신이 사용하는 컴퓨터 운영체제에서 어떻게 셸을 시작하고 어떤 셸 명령어를 지원하는지 잘 알고 있어야 한다."
   ]
  },
  {
   "cell_type": "markdown",
   "metadata": {
    "school_cell_uuid": "ebdfc46f4a3841b2b6e6044e10418900"
   },
   "source": [
    "### 윈도우즈에서 셸 시작하기"
   ]
  },
  {
   "cell_type": "markdown",
   "metadata": {
    "school_cell_uuid": "def1b01a98cc4cdcaf11432c9de490f4"
   },
   "source": [
    "윈도우즈 운영체제를 사용하는 경우에는 다음과 같이 셸을 시작할 수 있다.\n",
    "\n",
    "* \"시작\" 버튼 선택 > 검색창에 \"cmd\" 라고 친다. > 검색되어 나오는 \"cmd.exe\" 프로그램이나 \"명령 프롬프트\" 프로그램을 선택\n",
    "* \"시작\" 버튼 선택 > \"모든 프로그램\" 선택 > \"보조 프로그램\" 선택 > \"명령 프롬프트\" 프로그램 선택"
   ]
  },
  {
   "cell_type": "markdown",
   "metadata": {
    "school_cell_uuid": "92bc8c4e8b4b4ac6a81772e7ec778cfa"
   },
   "source": [
    "<img src=\"https://datascienceschool.net/upfiles/2e84a4fe369849899e1317e027a32c86.png\" style=\"width:50%;\" no-resize>"
   ]
  },
  {
   "cell_type": "markdown",
   "metadata": {
    "school_cell_uuid": "08b4d0e8501744418bcd293abeb99943"
   },
   "source": [
    "### 맥 OS X 에서 셸 시작하기"
   ]
  },
  {
   "cell_type": "markdown",
   "metadata": {
    "school_cell_uuid": "ae1ef46fe471461292481cca2ef59446"
   },
   "source": [
    "맥 OS X 운영체제를 사용하는 경우에는 다음과 같이 셸을 시작할 수 있다.\n",
    "\n",
    "* Spotlight 검색 > 검색창에 \"Terminal\" 또는 \"터미널\" 이라고 친다. > 검색되어 나오는 \"Terminal\" 혹은 \"터미널\" 앱 실행\n",
    "* 파인더 > 응용 프로그램 > 유틸리티 > 터미널"
   ]
  },
  {
   "cell_type": "markdown",
   "metadata": {
    "bootstrap": {
     "panel": {
      "class": "panel-default"
     }
    },
    "school_cell_uuid": "95a5f5aea44f43bda17c1de80ad8fce9"
   },
   "source": [
    "#### 연습 문제 1\n",
    "\n",
    "자신의 컴퓨터에서 셸을 시작해본다. 익숙해질 때까지 여러번 반복한다."
   ]
  },
  {
   "cell_type": "markdown",
   "metadata": {
    "school_cell_uuid": "8b041b48728e47b5929287eff491c333"
   },
   "source": [
    "## 프롬프트"
   ]
  },
  {
   "cell_type": "markdown",
   "metadata": {
    "school_cell_uuid": "81952e3c68d94f35aecdfda394812134"
   },
   "source": [
    "셸 화면에서는 항상 새로운 줄이 시작할 때마다 무언가 글씨가 출력되어 있다. 가장 일반적으로 나오는 것이 `$`(달러 표시) 기호이다.  경우에 따라 `$`(달러 표시) 기호 앞에 사용자 이름이나 컴퓨터 이름 혹은 현재 디렉토리 위치 등 다른 글자들이 있을 수도 있다.\n",
    "\n",
    "이러한 글자와 기호를 **프롬프트(prompt)**라고 한다. \n",
    "\n",
    "프롬프트는 셸이 사용자의 명령을 받을 수 있는 상태가 되었음을 알려준다. 프롬프트가 나오면 키보드로 명령을 입력할 수 있다."
   ]
  },
  {
   "cell_type": "markdown",
   "metadata": {
    "bootstrap": {
     "panel": {
      "class": "panel-default"
     }
    },
    "school_cell_uuid": "5f668127f1df499895014624c763e176"
   },
   "source": [
    "#### 연습 문제 2\n",
    "\n",
    "자신의 셸에서 나오는 프롬프트를 적어보고 무슨 뜻인지 알아본다."
   ]
  },
  {
   "cell_type": "markdown",
   "metadata": {
    "school_cell_uuid": "a5ea7cf03cec43138ba09e22b3af660d"
   },
   "source": [
    "## 셸 명령"
   ]
  },
  {
   "cell_type": "markdown",
   "metadata": {
    "school_cell_uuid": "dad2e04967a44a01875b14fe6dbefafd"
   },
   "source": [
    "아까 셸과 터미널/콘솔은 각각 의미가 다르다고 했는데 정확하게 말하면 \n",
    "\n",
    "* 셀은 사용자가 글자를 타이핑하여 컴퓨터에게 명령할 수 있도록 하는 프로그램을 뜻하고\n",
    "* 터미널/콘솔은 셸을 실행하기 위해 글자 입력을 받아 컴퓨터에게 전달하거나 컴퓨터의 출력을 글자 화면에 쓰는 프로그램을 말한다.\n",
    "\n",
    "따라서 셸과 터미널/콘솔은 항상 같이 실행할 수 밖에 없기 때문에 보통 같은 의미로 사용된다."
   ]
  },
  {
   "cell_type": "markdown",
   "metadata": {
    "school_cell_uuid": "3d5d612335fa4bf08e8ade56fe3ce970"
   },
   "source": [
    "셸 화면에서는  컴퓨터에게 글자를 타이핑하여 간단한 명령을 수행할 수 있다. 셸 명령은 주로 파일이나 폴더(디렉토리)를 관리하기 위한 명령이다. 윈도우즈의 셸 명령과 맥/리눅스의 셸 명령은 비슷하지만 약간 차이가 있다."
   ]
  },
  {
   "cell_type": "markdown",
   "metadata": {
    "school_cell_uuid": "198dbf3f5b8146b0a6bf3f67b998bd2a"
   },
   "source": [
    " ### 기본 셸 명령"
   ]
  },
  {
   "cell_type": "markdown",
   "metadata": {
    "school_cell_uuid": "d473df853cb94862b989b7b5fed54ebe"
   },
   "source": [
    "셸에서는 디렉토리와 파일을 만들고 관리할 수 있으며 현재 사용자가 보고 있는 디렉토리를 변경(이동)할 수도 있다. 다음은 셸에서 많이 사용되는 몇가지 명령을 정리한 것이다."
   ]
  },
  {
   "cell_type": "markdown",
   "metadata": {
    "school_cell_uuid": "be643bc731ae418795cab715e1bb74d8"
   },
   "source": [
    "| 명령 |  윈도우즈 셸  | 맥/리눅스 셸 |\n",
    "|-|-|-|\n",
    "| 화면 지우기 | `cls` | `ctrl+l` |\n",
    "| 현재 디렉토리 이름 출력 | `cd` | `pwd` |\n",
    "| 현재 디렉토리의 파일 목록 출력 | `dir` | `ls -Fcal` |\n",
    "| 한 칸 위의 디렉토리로 이동  | `cd ..`| `cd ..` |\n",
    "| 한 칸 아래의 디렉토리로 이동  | `cd 디렉토리이름`| `cd 디렉토리이름` |\n",
    "| 파일 지우기  | `del 파일이름`| `rm 파일이름` |\n",
    "| 디렉토리 만들기  | `mkdir 디렉토리이름`| `mkdir 디렉토리이름` |\n",
    "| 디렉토리 지우기  | `rmdir 디렉토리이름`| `rmdir 디렉토리이름` |\n",
    "| 셸 나가기  | `exit`| `exit` |\n"
   ]
  },
  {
   "cell_type": "markdown",
   "metadata": {
    "bootstrap": {
     "panel": {
      "class": "panel-default"
     }
    },
    "school_cell_uuid": "38777426bf28497ab74fed0a0a489f54"
   },
   "source": [
    "#### 연습 문제 3\n",
    "\n",
    "셸을 가동한 뒤 다음 명령을 수행한다.\n",
    "\n",
    "1. 현재 디렉토리의 이름을 알아본다.\n",
    "1. 현재 디렉토리의 모든 파일과 디렉토리 목록을 알아낸다.\n",
    "1. 이 디렉토리에 ``foo`` 라는 이름의 디렉토리를 만든다.\n",
    "1. ``foo``  디렉토리로 들어간다.\n",
    "1. ``foo`` 디렉토리에 ``bar`` 라는 이름의 디렉토리를 만든다.\n",
    "1. 다시 ``foo``  디렉토리로 이동한다.\n",
    "1. ``bar`` 디렉토리를 삭제한다.\n",
    "1. 화면을 지운다.\n",
    "1. 다시 가장 처음의  디렉토리로 이동한다.\n",
    "1. ``foo`` 디렉토리를 삭제한다.\n",
    "1. 셸을 나간다."
   ]
  },
  {
   "cell_type": "markdown",
   "metadata": {
    "school_cell_uuid": "aa8663099a5842bc99099319f1e4dd0c"
   },
   "source": [
    "## 계정과 홈 디렉토리"
   ]
  },
  {
   "cell_type": "markdown",
   "metadata": {
    "school_cell_uuid": "9a2c78149eef4804a428e371416bd6de"
   },
   "source": [
    "윈도우즈, 맥, 리눅스와 같은 운영체제는 사용자 계정(account)과 홈 디렉토리(home directory)를 지원한다. 사용자 계정은 운영체제에 로그인하기 위한 사용자 이름이고 디렉토리는 각각의 사용자의 개인화 정보를 저정하기 위한 디렉토리이다.\n",
    "\n",
    "셸을 가동하면 보통은 로그인한 사용자의 홈 디렉토리에서 셸이 시작한다. 만약 홈 디렉토리에서 시작하지 않았다면 다음 명령으로 홈 디렉토리로 옮길 수 있다. ``~`` 기호는 틸드(tilde)라고 읽는다. 이 기호는 사용자의 홈 디렉토리를 표시하는 단축 기호이다.\n",
    "\n",
    "```\n",
    "$ cd ~\n",
    "\n",
    "```"
   ]
  },
  {
   "cell_type": "markdown",
   "metadata": {
    "school_cell_uuid": "8bd1ac1da37a448c8e58893c600402da"
   },
   "source": [
    "만약 현재 자신의 계정 이름을 모르겠다면 홈 디렉토리로 옮겨서 디렉토리 이름을 보면된다. 윈도우즈에서는 보통 홈 디렉토리를 ``C:\\Users\\계정이름`` 과 같이 만들어 준다."
   ]
  },
  {
   "cell_type": "markdown",
   "metadata": {
    "bootstrap": {
     "panel": {
      "class": "panel-default"
     }
    },
    "school_cell_uuid": "3ffe5b68930941a1883d17153cb984b4"
   },
   "source": [
    "#### 연습 문제 4\n",
    "\n",
    "1. 셸을 가동하여 자신의 홈 디렉토리로 이동한다.\n",
    "2. 자신의 계정 이름을 알아낸다.\n",
    "3. 자신의 홈 디렉토리에 어떤 서브 디렉토리(숨겨진 디렉토리를 포함)들이 있는지 그리고 각각의 서브 디렉토리에는 어떤 파일들이 있는지 조사한다."
   ]
  },
  {
   "cell_type": "markdown",
   "metadata": {
    "school_cell_uuid": "5545e527b82b460e9da84a497120e728"
   },
   "source": [
    "## 계정 이름에 대해\n",
    "\n",
    "계정 이름을 만들 때에는 다음과 같이 만들기를 권장한다.\n",
    "\n",
    "* 한국어가 아닌 영어로 만들 것\n",
    "* 띄어쓰기가 없는 한 단어로 만들 것\n",
    "\n",
    "위와 같은 조건을 만족하지 않는다고 해도 큰 영향은 없지만 다음과 같은 이유로 가끔 어려음을 겪을 수도 있다.\n",
    "* 어떤 프로그램은 영문이 아니거나 띄어쓰기가 있는 계정 이름을 지원하지 않는 경우도 있다.\n",
    "* 디렉토리 이름에 띄어쓰기가 있는 경우 셸에서 사용이 불편하다.\n",
    "* 리눅스 등의 운영체제에서는 한글 표시/입력 설정을 추가로 해야 하므로 홈 디렉토리 표시나 사용이 불편해진다."
   ]
  },
  {
   "cell_type": "markdown",
   "metadata": {
    "bootstrap": {
     "panel": {
      "class": "panel-default"
     }
    },
    "school_cell_uuid": "7616b72f0db54029a0ac35aa78f0145b"
   },
   "source": [
    "#### 연습 문제 5\n",
    "\n",
    "자신의 운영체제에서 새로운 계정을 만들어 보자. 계정 이름은 영어 한 단어로 된 이름을 사용한다."
   ]
  },
  {
   "cell_type": "markdown",
   "metadata": {
    "school_cell_uuid": "d68dd2cbdcb94cf8b5c1bd592273398e"
   },
   "source": [
    "## 참고 문헌"
   ]
  },
  {
   "cell_type": "markdown",
   "metadata": {
    "school_cell_uuid": "2b9288f6c9af4e19b7c91ea0b1fb4d22"
   },
   "source": [
    "셸 명령을 잘 사용하는 것은 컴퓨터를 다루는 가장 기본적인 능력이다. 여기에서 설명한 것은 가장 기초적인 셸 명령에 지나지 않는다. 좀 더 다양한 셸 명령이나 셸 스크립트 프로그래밍 방법을 알고 싶다면 다음 서적을 참고한다.\n",
    "\n",
    "* \"The Linux Command Line\"(William Shotts 지음, No Starch Press 출판)\n",
    "    * 이 책은 다음 웹사이트에서 무료로 영문판 pdf 파일을 다운로드 받을 수 있다. \n",
    "    * \"리눅스 커맨드라인 완벽 입문서\"(이종우, 정영신 옮김, 비제이퍼블릭 출판)  라는 한글 번역서도 있다."
   ]
  }
 ],
 "metadata": {
  "kernelspec": {
   "display_name": "Python [Root]",
   "language": "python",
   "name": "Python [Root]"
  },
  "language_info": {
   "codemirror_mode": {
    "name": "ipython",
    "version": 2
   },
   "file_extension": ".py",
   "mimetype": "text/x-python",
   "name": "python",
   "nbconvert_exporter": "python",
   "pygments_lexer": "ipython2",
   "version": "2.7.12"
  }
 },
 "nbformat": 4,
 "nbformat_minor": 0
}