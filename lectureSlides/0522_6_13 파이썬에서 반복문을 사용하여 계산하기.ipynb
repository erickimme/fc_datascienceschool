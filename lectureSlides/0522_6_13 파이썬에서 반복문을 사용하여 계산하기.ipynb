{
 "cells": [
  {
   "cell_type": "markdown",
   "metadata": {
    "school_cell_uuid": "b96d8e62308c420d85ca39effe4088cf"
   },
   "source": [
    "# 파이썬에서 반복문을 사용하여 계산하기"
   ]
  },
  {
   "cell_type": "markdown",
   "metadata": {
    "school_cell_uuid": "25910844c4d4466696267e92995c9336"
   },
   "source": [
    "반복문은 리스트 자료형 변수에 대해 여러가지 계산을 할 때 많이 사용된다. \n",
    "\n",
    "예를 들어 10번의 시험 성적을 담고 있는 a라는 변수가 있을 때 평균 성적은 다음과 같이 구할 수 있다.\n",
    "\n",
    "다음 코드에서 `len()` 명령어는 리스트 자료형 변수의 원소의 갯수를 구하는 명령어이다."
   ]
  },
  {
   "cell_type": "code",
   "execution_count": 1,
   "metadata": {
    "collapsed": false,
    "school_cell_uuid": "7391f1e926834311978d9405dce1267c"
   },
   "outputs": [
    {
     "data": {
      "text/plain": [
       "[90, 85, 95, 80, 90, 100, 85, 75, 85, 80]"
      ]
     },
     "execution_count": 1,
     "metadata": {},
     "output_type": "execute_result"
    }
   ],
   "source": [
    "a = [90, 85, 95, 80, 90, 100, 85, 75, 85, 80]\n",
    "a"
   ]
  },
  {
   "cell_type": "code",
   "execution_count": 2,
   "metadata": {
    "collapsed": false,
    "school_cell_uuid": "fdde4919778445738d09580e319c4419"
   },
   "outputs": [
    {
     "data": {
      "text/plain": [
       "10"
      ]
     },
     "execution_count": 2,
     "metadata": {},
     "output_type": "execute_result"
    }
   ],
   "source": [
    "len(a)"
   ]
  },
  {
   "cell_type": "code",
   "execution_count": 3,
   "metadata": {
    "collapsed": false,
    "school_cell_uuid": "5bdf40828a8b444088fad6f83f834948"
   },
   "outputs": [
    {
     "data": {
      "text/plain": [
       "86.5"
      ]
     },
     "execution_count": 3,
     "metadata": {},
     "output_type": "execute_result"
    }
   ],
   "source": [
    "sum = 0\n",
    "for i in range(len(a)):\n",
    "    sum = sum + a[i]\n",
    "average = sum / len(a)    \n",
    "average"
   ]
  },
  {
   "cell_type": "markdown",
   "metadata": {
    "school_cell_uuid": "22a8cb4cd4e14f02a490d506e9d4689b"
   },
   "source": [
    "만약 학생이 두 명이고 이런 성적 변수가 두 개 있을 경우를 생각하자. 두 학생의 시험 성적의 합은 다음과 같이 구할 수 있다."
   ]
  },
  {
   "cell_type": "code",
   "execution_count": 4,
   "metadata": {
    "collapsed": false,
    "school_cell_uuid": "3a8264ff63b74ecd8f250eaacb65a393"
   },
   "outputs": [
    {
     "data": {
      "text/plain": [
       "[185, 175, 185, 170, 185, 200, 175, 155, 180, 170]"
      ]
     },
     "execution_count": 4,
     "metadata": {},
     "output_type": "execute_result"
    }
   ],
   "source": [
    "s = [0, 0, 0, 0, 0, 0, 0, 0, 0, 0]\n",
    "a1 = [90, 85, 95, 80, 90, 100, 85, 75, 85, 80]\n",
    "a2 = [95, 90, 90, 90, 95, 100, 90, 80, 95, 90]\n",
    "for i in range(len(s)):\n",
    "    s[i] = a1[i] + a2[i]\n",
    "s    "
   ]
  },
  {
   "cell_type": "markdown",
   "metadata": {
    "school_cell_uuid": "012e79f4fba64c4db3ca1d085ca91356"
   },
   "source": [
    "학생이 5명이라면 다음과 같이 리스트의 리스트로 데이터를 나타낼 수 있다."
   ]
  },
  {
   "cell_type": "code",
   "execution_count": 5,
   "metadata": {
    "collapsed": false,
    "school_cell_uuid": "510b43d9068a4d16bb573310e861c734"
   },
   "outputs": [],
   "source": [
    "X = [[ 85,  90,  20,  50,  60,  25,  30,  75,  40,  55],\n",
    "     [ 70, 100,  70,  70,  55,  75,  55,  60,  40,  45],\n",
    "     [ 25,  65,  15,  25,  20,   5,  60,  70,  35,  10],\n",
    "     [ 80,  45,  80,  40,  75,  35,  80,  55,  70,  90],\n",
    "     [ 35,  50,  75,  25,  35,  70,  65,  50,  70,  10]]"
   ]
  },
  {
   "cell_type": "markdown",
   "metadata": {
    "school_cell_uuid": "c4731bb9e2c6494a84f78e8c94e78ceb"
   },
   "source": [
    "이 때 전체 평균은 다음과 같이 구한다."
   ]
  },
  {
   "cell_type": "code",
   "execution_count": 6,
   "metadata": {
    "collapsed": false,
    "school_cell_uuid": "e0c17b196c244e6f80b0ed1ff57ac1e8"
   },
   "outputs": [
    {
     "data": {
      "text/plain": [
       "52.7"
      ]
     },
     "execution_count": 6,
     "metadata": {},
     "output_type": "execute_result"
    }
   ],
   "source": [
    "sum = 0\n",
    "num = 0\n",
    "for i in range(len(X)):\n",
    "    for j in range(len(X[i])):\n",
    "        num = num + 1\n",
    "        sum = sum + X[i][j]\n",
    "sum / num"
   ]
  },
  {
   "cell_type": "markdown",
   "metadata": {
    "bootstrap": {
     "panel": {
      "class": "panel-default"
     }
    },
    "school_cell_uuid": "5e598a7ac70543218808b8118cb8c2f4"
   },
   "source": [
    "#### 연습 문제 1\n",
    "\n",
    "어떤 학생이 5개의 과목을 수강하여 다음과 같은 성적(grade)을 받았다. (4점이 만점)\n",
    "\n",
    "$$ X = 4, 3, 2, 3, 4 $$\n",
    "\n",
    "이 5개 과목의 이수 학점(credit hours)은 각각 다음과 같다.\n",
    "\n",
    "$$ W = 3, 3, 1, 2, 2 $$\n",
    "\n",
    "이 때 평균 평점(GPA)은 성적의 단순 평균이 아니라 이수 학점을 가중치(weight)로 써서 다음과 같이 가중 평균을 구해야 한다.\n",
    "\n",
    "$$ \\dfrac{\\text{성적과 이수 학점을 곱한 값의 총합 즉, 가중합}}{\\text{이수 학점의 총합}} =  \n",
    "\\dfrac{3 \\times 4 + 3 \\times 3 + 1 \\times 2 + 2 \\times 3 + 2 \\times 4}{3 + 3 + 1 + 2 + 2}$$\n",
    "\n",
    "$i$번째 과목의 성적을 $X_i$라고 하고 $i$번째 과목의 이수 학점을 $W_i$라고 하면 가중 평균은 다음과 같은 수식으로 나타낼 수도 있다.\n",
    "\n",
    "$$ \\dfrac{W_1 X_1 + W_2 X_2 + W_3 X_3 + W_4 X_4 + W_5 X_5}{W_1 + W_2 + W_3 + W_4 + W_5} $$\n",
    "\n",
    "이 학생의 평균 평점을 구하는 코드를 작성한다."
   ]
  },
  {
   "cell_type": "markdown",
   "metadata": {
    "bootstrap": {
     "panel": {
      "class": "panel-default"
     }
    },
    "school_cell_uuid": "51a4883dcc2a419190d5e0b0bd570b64"
   },
   "source": [
    "#### 연습 문제 2\n",
    "\n",
    "자료의 분산(Variance)는 각 자료 값에서 자료의 평균값을 뺀 나머지를 제곱한 값의 평균을 말한다. 예를 들어 자료가 다음과 같다고 하자\n",
    "\n",
    "$$ X = 6, 5, 4, 7, 3, 5 $$\n",
    "\n",
    "이 자료의 평균은 다음과 같다.\n",
    "\n",
    "$$ \\dfrac{(6 + 5 + 4 + 7 + 3 + 5)}{6} = 5$$\n",
    "\n",
    "각 자료 값에서 자료의 평균값을 뺀 나머지를 제곱한 값을 모두 더한 값의 평균은 다음과 같이 구한다.\n",
    "\n",
    "$$ \\dfrac{(6 - 5)^2 + (5 - 5)^2 + (4 - 5)^2 + (7 - 5)^2 + (3 - 5)^2 + (5 - 5)^2}{6} $$\n",
    "\n",
    "이 자료의 분산을 구하는 코드를 작성한다."
   ]
  }
 ],
 "metadata": {
  "kernelspec": {
   "display_name": "Python [Root]",
   "language": "python",
   "name": "Python [Root]"
  },
  "language_info": {
   "codemirror_mode": {
    "name": "ipython",
    "version": 2
   },
   "file_extension": ".py",
   "mimetype": "text/x-python",
   "name": "python",
   "nbconvert_exporter": "python",
   "pygments_lexer": "ipython2",
   "version": "2.7.12"
  }
 },
 "nbformat": 4,
 "nbformat_minor": 0
}