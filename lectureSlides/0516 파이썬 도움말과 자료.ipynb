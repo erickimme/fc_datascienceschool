{
 "cells": [
  {
   "cell_type": "markdown",
   "metadata": {
    "school_cell_uuid": "fa46b40df89749b8be7d60a45fcb4e74"
   },
   "source": [
    "# 파이썬 도움말과 자료"
   ]
  },
  {
   "cell_type": "markdown",
   "metadata": {
    "school_cell_uuid": "90b25e5f3c504c0ba561f6f31121574e"
   },
   "source": [
    "인터넷에는 파이썬을 사용하기 위한 다양한 도움말과 자료가 있다. 몇가지 대표적인 자료를 소개한다."
   ]
  },
  {
   "cell_type": "markdown",
   "metadata": {
    "school_cell_uuid": "fbefdb2ca3e94d0a8914ddd3429ad549"
   },
   "source": [
    "* 파이썬 공식 소개서\n",
    "  * https://docs.python.org/2/tutorial/index.html\n",
    "  * 파이썬을 처음 사용하는 사람을 위한 소개서이다."
   ]
  },
  {
   "cell_type": "markdown",
   "metadata": {
    "school_cell_uuid": "b8bf70b8579c4e8080da5926b9877037"
   },
   "source": [
    "* 파이썬 초보자 가이드 목록\n",
    "  * https://wiki.python.org/moin/BeginnersGuide\n",
    "  * 파이썬을 처음 사용하는 사람을 위한 다양한 자료에 대한 링크를 모아놓은 목록이다."
   ]
  },
  {
   "cell_type": "markdown",
   "metadata": {
    "school_cell_uuid": "fd64984ace57446ab0eb129dbe02287d"
   },
   "source": [
    "* 파이썬 언어 참고서\n",
    "  * https://docs.python.org/2/reference/index.html\n",
    "  * 파이썬 언어에 대한 상세한 명세가 나와 있다."
   ]
  },
  {
   "cell_type": "markdown",
   "metadata": {
    "school_cell_uuid": "2efebe7ed8ce4361ba9e05121ee70990"
   },
   "source": [
    "* 파이썬 표준 패키지 소개\n",
    "  * https://docs.python.org/2/library/index.html\n",
    "  * 파이썬 패키지 중 기본적으로 설치되는 표준 패키지(standard package)들을 소개한다."
   ]
  }
 ],
 "metadata": {
  "kernelspec": {
   "display_name": "Python 2",
   "language": "python",
   "name": "python2"
  },
  "language_info": {
   "codemirror_mode": {
    "name": "ipython",
    "version": 2
   },
   "file_extension": ".py",
   "mimetype": "text/x-python",
   "name": "python",
   "nbconvert_exporter": "python",
   "pygments_lexer": "ipython2",
   "version": "2.7.13"
  }
 },
 "nbformat": 4,
 "nbformat_minor": 2
}