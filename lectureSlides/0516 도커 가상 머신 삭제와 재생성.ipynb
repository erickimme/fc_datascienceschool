{
 "cells": [
  {
   "cell_type": "markdown",
   "metadata": {
    "school_cell_uuid": "ed33eeef430e4a8a9b3b2f471f2f982f"
   },
   "source": [
    "# 도커 가상 머신 삭제와 재생성"
   ]
  },
  {
   "cell_type": "markdown",
   "metadata": {
    "school_cell_uuid": "d737ae69edd14239be665d551c15abfd"
   },
   "source": [
    "## 가상 머신 삭제"
   ]
  },
  {
   "cell_type": "markdown",
   "metadata": {
    "school_cell_uuid": "73d5df1cd8d54659b7033f3180ea4e03"
   },
   "source": [
    "도커 툴박스를 사용하다가 경우에 따라서는 도커 이미지를 지우는 것이 아니라 리눅스가 설치된 가상 머신 자체를 완전히 삭제해야 하는 경우가 있을 수 있다. 이 경우에는 ``docker-machine`` 이라는 도구를 사용한다.\n",
    "\n",
    "우선 도커 터미널을 시작해서 현재 설치되어 있는 가상 머신 목록을 확인한다."
   ]
  },
  {
   "cell_type": "markdown",
   "metadata": {
    "school_cell_uuid": "d87a8b7a0bf2429792172945296431ca"
   },
   "source": [
    "```\n",
    "$ docker-machine ls\n",
    "\n",
    "NAME      ACTIVE   DRIVER       STATE     URL                         SWARM   DOCKER    ERRORS\n",
    "default   *        virtualbox   Running   tcp://192.168.99.100:2376           v1.13.0\n",
    "```"
   ]
  },
  {
   "cell_type": "markdown",
   "metadata": {
    "school_cell_uuid": "70cc97fe03a14e80ab523719483e08ed"
   },
   "source": [
    "특별한 경우가 아니라면 `default`라는 이름의 가상 머신만 있을 것이다.\n",
    "\n",
    "이 가상 머신은 다음 명령으로 삭제할 수 있다. 이 명령을 사용하면 도커 이미지 및 도커 컨테이너에 저장된 모든 파일들이 함께 지워지므로 반드시 필요한 파일을 호스트에 복사한 뒤에 사용한다."
   ]
  },
  {
   "cell_type": "markdown",
   "metadata": {
    "school_cell_uuid": "bf729a94e99941379b5fdd5accec5461"
   },
   "source": [
    "```\n",
    "$ docker-machine rm default\n",
    "About to remove default\n",
    "Are you sure? (y/n): y\n",
    "Successfully removed default\n",
    "```"
   ]
  },
  {
   "cell_type": "markdown",
   "metadata": {
    "school_cell_uuid": "55340224030941aaa7935463fcdf0c68"
   },
   "source": [
    "만약 가상 머신의 이름이 `default`가 아니면 위 명령에서 이름을 해당하는 이름으로 바꾸면 된다."
   ]
  },
  {
   "cell_type": "markdown",
   "metadata": {
    "school_cell_uuid": "c090332e636a4954af050dfa95ff2cdb"
   },
   "source": [
    "## 가상 머신 재생성"
   ]
  },
  {
   "cell_type": "markdown",
   "metadata": {
    "school_cell_uuid": "2144e046806243ca8878baf17eadfdc6"
   },
   "source": [
    "가상 머신을 삭제한 이후에 Docker Quickstart Terminal을 죽이고 다시 실행하면 리눅스가 깔린 가상 머신을 자동으로 다시 만들어 준다. \n",
    "\n",
    "하지만 이렇게 자동을 만들어 주는 가상 머신은 사용할 수 있는 CPU의 수, 메모리 크기, 하드 디스크의 크기가 정해져 있다. 만약 사용자가 원하는 사양으로 가상 머신을 만들기 위해서는 Docker Quickstart Terminal을 통한 자동 생성을 사용하지 않고 ``docker-machine`` 도구를 사용하여 직접 가상 머신을 만들어야 한다."
   ]
  },
  {
   "cell_type": "markdown",
   "metadata": {
    "school_cell_uuid": "9892fce2c5af4ade99aba719e066f6c1"
   },
   "source": [
    "먼저 현재 ``default``라는 이름의 가상 머신이 없다는 것을 ``docker-machine ls`` 명령으로 확인한다. 만약 가상 머신이 존재하는 경우에는 앞서 말한 ``docker-machine rm`` 명령으로 삭제한다.\n",
    "\n",
    "```\n",
    "$ docker-machine ls\n",
    "NAME   ACTIVE   DRIVER   STATE   URL   SWARM   DOCKER   ERRORS\n",
    "```"
   ]
  },
  {
   "cell_type": "markdown",
   "metadata": {
    "school_cell_uuid": "1a3219408f744a048389116b433ac13f"
   },
   "source": [
    "다음 명령으로 가상 머신을 만든다. 이 때 호스트 컴퓨터의 사양 내에서 가상 머신의 사양을 원하는 대로 지정할 수 있다.\n",
    "\n",
    "```\n",
    "$ docker-machine create --driver virtualbox --virtualbox-cpu-count \"2\" --virtualbox-memory \"2048\" --virtualbox-disk-size \"50000\" default\n",
    "```"
   ]
  },
  {
   "cell_type": "markdown",
   "metadata": {
    "school_cell_uuid": "b202e0ae00be4d5c8b714d241f93a56d"
   },
   "source": [
    "위 명령에서 각 인수의 의미는 다음과 같다. 인수의 숫자를 바꾸면 가상 머신의 사양을 변경할 수 있다.\n",
    "\n",
    "* ``--driver virtualbox``: 버추얼박스 사용\n",
    "* ``--virtualbox-cpu-count \"2\"`` : CPU 코어의 수를 2 개로 지정\n",
    "* ``--virtualbox-memory \"2048\"``: 메모리 크기를 2 GB로 지정 \n",
    "* ``--virtualbox-disk-size \"50000\"``: 메모리 크기를 50 GB로 지정 "
   ]
  }
 ],
 "metadata": {
  "kernelspec": {
   "display_name": "Python [Root]",
   "language": "python",
   "name": "Python [Root]"
  },
  "language_info": {
   "codemirror_mode": {
    "name": "ipython",
    "version": 2
   },
   "file_extension": ".py",
   "mimetype": "text/x-python",
   "name": "python",
   "nbconvert_exporter": "python",
   "pygments_lexer": "ipython2",
   "version": "2.7.12"
  }
 },
 "nbformat": 4,
 "nbformat_minor": 0
}