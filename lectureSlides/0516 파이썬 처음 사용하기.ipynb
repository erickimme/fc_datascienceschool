{
 "cells": [
  {
   "cell_type": "markdown",
   "metadata": {
    "school_cell_uuid": "186a0c4c7a91493fa95a588ad1750b32"
   },
   "source": [
    "# 파이썬 처음 사용하기"
   ]
  },
  {
   "cell_type": "markdown",
   "metadata": {
    "school_cell_uuid": "f26a1efb3b204da88448226f1645e241"
   },
   "source": [
    "파이썬을 설치하였으면 이제 사용해 보자. 파이썬을 사용하는 방식에는 다음 두 가지 방법이 있다.\n",
    "\n",
    "1. 콘솔이나 주피터 노트북을 사용한 REPL(Read–Eval–Print Loop) 방식\n",
    "2. 스크립트(script) 실행 방식"
   ]
  },
  {
   "cell_type": "markdown",
   "metadata": {
    "school_cell_uuid": "ee83b9d690b041ff9d2d0f76c0dfe91b"
   },
   "source": [
    "## REPL(Read–Eval–Print Loop) 방식"
   ]
  },
  {
   "cell_type": "markdown",
   "metadata": {
    "school_cell_uuid": "df4d9752c44b43e99af0003ba3834ee2"
   },
   "source": [
    "REPL(Read–Eval–Print Loop, \"레플\"이라고 읽는다) 방식은 주피터 노트북이나 파이썬(또는 IPython) 콘솔을 실행해서 명령어를 한줄씩 입력하며 실행 상황을 지켜보는 방식이다. 파이썬 프로그래밍을 공부하거나 코드의 초기 버전을 제작할 때 유용한 방식이다. 본서에서는 모든 코드를 REPL 방식으로 실행하면서 공부하게 된다."
   ]
  },
  {
   "cell_type": "markdown",
   "metadata": {
    "school_cell_uuid": "ce3d79f2e82f4763aef8c0e01ebf2867"
   },
   "source": [
    "### 주피터 노트북 사용법"
   ]
  },
  {
   "cell_type": "markdown",
   "metadata": {
    "school_cell_uuid": "98719643ccde44099de11d0392b93f7c"
   },
   "source": [
    "호스트에서 직접 주피터 노트북 서버를 실행하거나 도커 컨테이너에서 주피터 노트북 서버를 실행한 후에 웹브라우저에 다음 주소를 치면 주피터 노트북 홈 화면이 나온다.\n",
    "\n",
    "* 호스트에서 주피터 노트북 서버를 직접 실행한 경우: \n",
    "  * http://127.0.0.1:8888\n",
    "* 도커 컨테이너에서 주피터 노트북 서버를 실행한 경우: \n",
    "  * http://192.168.99.100:8888"
   ]
  },
  {
   "cell_type": "markdown",
   "metadata": {
    "school_cell_uuid": "93e0a3a8563942b5aeae7b89b16da0ff"
   },
   "source": [
    "<img src=\"https://datascienceschool.net/upfiles/5d083c410b0a464daf7d93342db876d2.png\">"
   ]
  },
  {
   "cell_type": "markdown",
   "metadata": {
    "school_cell_uuid": "a80617570637400e88f469bbd4272b4e"
   },
   "source": [
    "홈 화면의 우측 상단에 있는 ``New`` 버튼을 누르면 다음과 같이 실행할 수 있는 명령어 목록이 나온다. "
   ]
  },
  {
   "cell_type": "markdown",
   "metadata": {
    "school_cell_uuid": "f552259eae714b4c8b427b45fccc6e4d"
   },
   "source": [
    "<img src=\"https://datascienceschool.net/upfiles/5ed0d8a1f179453589d9630b727a427d.png\">"
   ]
  },
  {
   "cell_type": "markdown",
   "metadata": {
    "school_cell_uuid": "313d37e6406748f689876b37366e4abe"
   },
   "source": [
    "여기에서 ``Python 2``라고 되어 있는 명령을 선택하면 웹 브라우저의 새 탭에서 ``Untitled``란 이름으로 주피터 노트북이 실행된다."
   ]
  },
  {
   "cell_type": "markdown",
   "metadata": {
    "school_cell_uuid": "ad6e384abd114fcca2ce7a84d52f0b65"
   },
   "source": [
    "<img src=\"https://datascienceschool.net/upfiles/76c7d905c05245a8be42c1c4d3d85ab7.png\">"
   ]
  },
  {
   "cell_type": "markdown",
   "metadata": {
    "school_cell_uuid": "6136c6d33cfa41c19c75f03cca85fa3b"
   },
   "source": [
    "이렇게 노트북이 새로 만들어지면 원래의 홈 화면에는 다음과 같이 새로 만들어진 노트북이 표시된다. 이 때 현재 가동중인 노트북은 녹색 아이콘으로 표시되며 우측에 녹색으로 Running이라는 글자가 표시된다."
   ]
  },
  {
   "cell_type": "markdown",
   "metadata": {
    "school_cell_uuid": "30731370a7ea4862bca6ec27536b45ec"
   },
   "source": [
    "노트북은 셀(cell)이라는 네모 칸들로 구성된다. 방금 만들어진 노트북에는 하나의 셀만 표시되어 있는데 이 셀에서 파이썬 코드를 입력한 후에 <kbd>shift</kbd>+<kbd>Enter</kbd> 키를 치면 현재 셀이 실행되며 결과가 출력된다. 또한 다음 셀이 만들어지고 포커스는 다음 셀로 넘어간다. 즉, 이미 실행된 셀은 더이상 녹색으로 보이지 않는다. 실행된 셀의 프롬프트에는 실행 순서를 나타내는 번호가 붙게 된다.\n",
    "\n",
    "\n",
    "단순히 <kbd>Enter</kbd> 키만 치는 경우에는 다음 줄로 넘어가기만 하고 코드가 실행되지는 않는다."
   ]
  },
  {
   "cell_type": "markdown",
   "metadata": {
    "school_cell_uuid": "7249ee49c04b41e39d4a2a25e47c0628"
   },
   "source": [
    "<img src=\"https://datascienceschool.net/upfiles/2729d975b7a847638d10a2029f684b00.png\">"
   ]
  },
  {
   "cell_type": "markdown",
   "metadata": {
    "school_cell_uuid": "223c15aaf499410391709056e23168ef"
   },
   "source": [
    "다시 명령을 입력하려면 마우스로 새로 만들어진 셀을 클릭한다. 셀이 선택되면 셀의 색깔이 녹색으로 바뀌며 코드를 입력할 수 있는 상태가 된다."
   ]
  },
  {
   "cell_type": "markdown",
   "metadata": {
    "school_cell_uuid": "e5bd723c30e84db99be0bb9885837d44"
   },
   "source": [
    "<img src=\"https://datascienceschool.net/upfiles/29524344353a4527b9531b93ed336af7.png\">"
   ]
  },
  {
   "cell_type": "markdown",
   "metadata": {
    "school_cell_uuid": "fdf051bd208843faa559e91ebd676285"
   },
   "source": [
    "이제 다음과 같은 명령을 한줄씩 입력해 보자.\n",
    "\n",
    "```\n",
    "x = 1\n",
    "x\n",
    "y = 2\n",
    "y\n",
    "z = x + y\n",
    "z\n",
    "```"
   ]
  },
  {
   "cell_type": "markdown",
   "metadata": {
    "school_cell_uuid": "d98b89e4239c4684be7e65ec4c728667"
   },
   "source": [
    "명령을 입력하고 <kbd>shift</kbd>+<kbd>Enter</kbd> 키를 누를 때 마다 해당 명령이 실행된다. 이 명령은 ``x`` 라는 변수에 1이라는 값을 넣고 ``y``라는 변수에 2라는 값을 넣은 후 ``z``라는 변수에 변수 ``x``와  ``y`` 값을 더한 값을 넣으라는 명령이다. 중간에 나오는 \n",
    "\n",
    "```\n",
    "x\n",
    "```\n",
    "라는 명령은 변수 ``x``의 값을 표시하라는 뜻이다."
   ]
  },
  {
   "cell_type": "markdown",
   "metadata": {
    "school_cell_uuid": "7331fd62151e40bf990036cf4bf87c33"
   },
   "source": [
    "<img src=\"https://datascienceschool.net/upfiles/e25ea84646d24d4b929cdff253357e2f.png\">"
   ]
  },
  {
   "cell_type": "markdown",
   "metadata": {
    "school_cell_uuid": "30d142f63e8d4b379d5b10116e1687ec"
   },
   "source": [
    "이 방식이 REPL이라고 불리우는 것은 이렇게 명령을 하나 하나 입력하고(Read) 실행하면서(Evaluate) 변수의 값을 인쇄하여 살펴보는(Print) 것을 반복(Loop)하면서 코드를 만들기 때문이다."
   ]
  },
  {
   "cell_type": "markdown",
   "metadata": {
    "school_cell_uuid": "252173575ebd496dbec7f69e87c90b55"
   },
   "source": [
    "물론 위 명령을 하나의 셀에 넣고 한꺼번에 실행하는 것도 가능하다. 다만 변수의 이름을 지정해서 변수의 값을 살펴보는 것은 셀의 마지막 행(line)에서만 가능하다. 즉 아래 그램의 8번 셀에서 중간에 있는 ``x`` 등은 아무런 의미가 없으므로 8번 셀의 코드는 실제로 9번 셀과 같다."
   ]
  },
  {
   "cell_type": "markdown",
   "metadata": {
    "school_cell_uuid": "223c4eecf9474c2fa317ddc7009c61c0"
   },
   "source": [
    "<img src=\"https://datascienceschool.net/upfiles/7d8e6ca95c214f6a842e9b503fdc77e3.png\">"
   ]
  },
  {
   "cell_type": "markdown",
   "metadata": {
    "school_cell_uuid": "30a0506ca97a48a0bdc992e943d877a3"
   },
   "source": [
    "노트북 사용이 끝나면 ``File`` > ``Rename`` 명령을 실행하여 노트북의 이름을 ``Untitled``가 아닌 다른 이름으로 바꾼 뒤, ``File`` > ``Close and Halt`` 명령으로 파이썬 탭을 닫는다. 이 때 그냥 웹 브라우저의 탭을 닫아 버리면 파이썬 콘솔이 배경에서 계속 실행되므로 있으므로 반드시 ``Close and Halt`` 명령을 사용해야 한다."
   ]
  },
  {
   "cell_type": "markdown",
   "metadata": {
    "school_cell_uuid": "e8ccb567d8a44580a828de9d2a2e562c"
   },
   "source": [
    "### IPython 콘솔 사용법"
   ]
  },
  {
   "cell_type": "markdown",
   "metadata": {
    "school_cell_uuid": "7369de70d8d54870a9310839013a0396"
   },
   "source": [
    "IPython 콘솔을 실행하는 법은 간단하다. 터미널 창을 열고 ``ipython`` 이라고 치면 된다. 만약 주피터 노트북(호스트에 직접 설치한 것을 사용해도 되고 도커 컨테이너에서 돌아가는 것을 사용해도 된다)을 사용하고 있다면 우측 상단의 ``New`` 버튼을 누르고 가장 아래의 ``Terminal`` 메뉴를 실행하여 웹 브라우저 상에서 터미널 창을 열 수도 있다. \n",
    "\n",
    "아래는 도커 컨테이너에서 돌아가는 주피터 노트북에서 터미널을 열고 ipython 콘솔을 실행한 결과이다. 물론 호스트 컴퓨터에서 DOS 터미널 등을 열고 ``ipython`` 이라고 입력해도 된다."
   ]
  },
  {
   "cell_type": "markdown",
   "metadata": {
    "school_cell_uuid": "84fbd0a7ec8b479aae5e75965a06f71e"
   },
   "source": [
    "<img src=\"https://datascienceschool.net/upfiles/cfc48f9980af4adcb9b3a113e791ee64.png\">"
   ]
  },
  {
   "cell_type": "markdown",
   "metadata": {
    "school_cell_uuid": "14a340f04696492c8b73b6396946f1d1"
   },
   "source": [
    "IPython 콘솔에서도 주피터 노트북과 마찬가지로 REPL 사용이 가능하다. 다만 IPython 콘솔에서는 셀이라고 하는 개념이 없이 때문에 <kbd>Enter</kbd> 키만 쳐도 명령이 실행된다. 이 밖에는 주피터 노트북과 사용법이 같다. IPython 콘솔을 마칠 때는 ``exit`` 명령을 입력하면 된다.\n",
    "\n",
    "터미널 탭을 닫을 때는 터미널에서 ``exit`` 명령을 입력하여 ``[CLOSED]`` 표시가 나오면 웹 브라우저의 탭을 닫는다."
   ]
  },
  {
   "cell_type": "markdown",
   "metadata": {
    "school_cell_uuid": "86364ad54912435d839fcefe9632caa3"
   },
   "source": [
    "<img src=\"https://datascienceschool.net/upfiles/38dc8f5d80fb41eabd5ef74172f172df.png\">"
   ]
  },
  {
   "cell_type": "markdown",
   "metadata": {
    "school_cell_uuid": "eddae678fb844ae49ceeedce4a767653"
   },
   "source": [
    "## 스크립트(Script) 실행 방식"
   ]
  },
  {
   "cell_type": "markdown",
   "metadata": {
    "school_cell_uuid": "2d1588e5f2574db0b77d7d7bbd2b3f1e"
   },
   "source": [
    "코드를 모두 완성한 후 전체 코드를 한 번에 실행하고 싶을 때는 코드를 ``.py`` 확장자를 가진 파일로 만든다. 이렇게 만든 코드 파일을 스크립트(script)라고 한다. 스크립트는 주피터 노트북이나 IPython 콘솔을 실행하지 않고 터미널에서 직접 실행할 수 있다."
   ]
  },
  {
   "cell_type": "markdown",
   "metadata": {
    "school_cell_uuid": "608fa0b1e2a9498e9e2c40ea427facd3"
   },
   "source": [
    "다만 스크립트에서는 변수 이름만 쳐서 변수의 값이 표시되게 하는 것은 불가능하므로 화면에 무언가를 표시하려면 반드시 ``print`` 명령을 사용해야 한다."
   ]
  },
  {
   "cell_type": "markdown",
   "metadata": {
    "school_cell_uuid": "16f85606debf409082092d1dfc27048f"
   },
   "source": [
    "우선 간단한 스크립트를 하나 만들어보자. 홈 화면의 우측 상단에 있는 ``New`` 버튼에서 ``Text File``을 실행하여 파일 입력 탭을 생성한다. 텍스트 파일에 다음과 같이 코드를 입력하고 ``File`` > ``Rename`` 명령을 실행하여 노트북의 이름을 ``test.py``로 변경한 후 ``File`` > ``Save`` 명령으로 저장한다."
   ]
  },
  {
   "cell_type": "markdown",
   "metadata": {
    "school_cell_uuid": "88bed6572dd24b29969ebb325ba94a57"
   },
   "source": [
    "<img src=\"https://datascienceschool.net/upfiles/218bedfc8b724c79a80704b10268f68e.png\">"
   ]
  },
  {
   "cell_type": "markdown",
   "metadata": {
    "school_cell_uuid": "b4e97770f86b4d5382201213657ee14d"
   },
   "source": [
    "이제 터미널에서 다음과 같이 명령하여 이 스크립트를 실행할 수 있다.\n",
    "\n",
    "```\n",
    "$ python test.py\n",
    "```\n",
    "\n",
    "아래 그림은 실행 결과이다."
   ]
  },
  {
   "cell_type": "markdown",
   "metadata": {
    "collapsed": true,
    "school_cell_uuid": "dca9df20dcb04d17ab27ea04333b45a8"
   },
   "source": [
    "<img src=\"https://datascienceschool.net/upfiles/4c1506ebc167423a9f85ee52b4f3ea1f.png\">"
   ]
  },
  {
   "cell_type": "markdown",
   "metadata": {
    "school_cell_uuid": "503c74b92eb34d4ca871673b589c6e34"
   },
   "source": [
    "스크립트 방식은 응용 프로그램(application)이나 반복하여 실행해야 하는 코드를 만들 때 주로 사용된다."
   ]
  }
 ],
 "metadata": {
  "kernelspec": {
   "display_name": "Python 2",
   "language": "python",
   "name": "python2"
  },
  "language_info": {
   "codemirror_mode": {
    "name": "ipython",
    "version": 2
   },
   "file_extension": ".py",
   "mimetype": "text/x-python",
   "name": "python",
   "nbconvert_exporter": "python",
   "pygments_lexer": "ipython2",
   "version": "2.7.13"
  }
 },
 "nbformat": 4,
 "nbformat_minor": 2
}