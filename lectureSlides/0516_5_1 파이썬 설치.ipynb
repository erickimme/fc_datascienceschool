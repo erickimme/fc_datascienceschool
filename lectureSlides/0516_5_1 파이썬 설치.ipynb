{
 "cells": [
  {
   "cell_type": "markdown",
   "metadata": {
    "school_cell_uuid": "bedc91abb99c4cb6bc5f2338d12836a2"
   },
   "source": [
    "# 파이썬 설치"
   ]
  },
  {
   "cell_type": "markdown",
   "metadata": {
    "school_cell_uuid": "a8aca10ec77941eeb6b1b34d1883e2b9"
   },
   "source": [
    "여기에서는 도커를 사용하지 않고 사용자의 컴퓨터에 직접 파이썬을 설치하여 사용하는 방법을 살펴본다. "
   ]
  },
  {
   "cell_type": "markdown",
   "metadata": {
    "school_cell_uuid": "dcefb57675bd44adb9956e0718b075b5"
   },
   "source": [
    "## 파이썬의 종류"
   ]
  },
  {
   "cell_type": "markdown",
   "metadata": {
    "school_cell_uuid": "526efa2cc77f4146beb5b187bbae62b3"
   },
   "source": [
    "파이썬을 설치한다는 것은 파이썬 언어를 해석할 수 있는 인터프리터(interpreter)라는 프로그램을 설치한다는 뜻이다. 인터프리터란 소스 코드(source code)를 읽고 해석하여 수행하는 프로그램이다. \n",
    "\n",
    "최초의 파이썬 언어 인터프리터는 C 언어로 만들어졌다. C로 만든 파이썬은 CPython(씨 파이썬이라고 읽는다.)이라고 한다. CPython은 C 혹은 C++ 언어로 된 바이너리 라이브러리를 직접 호출할 수 있기 때문에 수많은 C/C++ 라이브러리를 파이썬에서 쉽게 사용할 수 있는 장점이 있다. 수치 계산이나 데이터 분석용으로 파이썬을 사용할 때는 대부분 CPython을 사용한다.\n",
    "\n",
    "그 외에 자바(Java)로 구현된 jython, 닷넷(.NET) 으로 구현된 IronPython, 자바스크립트로 구현된 Skulpt 등의 파이썬도 있다. 이러한 구현은 자바 라이브러리나 닷넷 컴포넌트를 파이썬에서 직접 호출하여 사용해야 하는 경우나 웹 브라우저에서 직접 파이썬을 실행해야 하는 경우에 쓰인다. PyPy와 Pyston은 최근 활발히 개발되고 있는 파이썬으로 JIT(Just-In-Time) 컴파일러를 내장하여 반복되는 코드를 빠르게 실행할 수 있도록 한다."
   ]
  },
  {
   "cell_type": "markdown",
   "metadata": {
    "bootstrap": {
     "panel": {
      "class": "panel-danger",
      "heading": ""
     }
    },
    "collapsed": true,
    "school_cell_uuid": "6c573cc355bf47eea17ef43b906d5e77"
   },
   "source": [
    "* 파이썬의 종류\n",
    "    * CPython\n",
    "         * C 구현\n",
    "    * jython\n",
    "         * Java 구현\n",
    "    * IronPython\n",
    "         * .NET 구현\n",
    "    * Skulpt\n",
    "        * javascript 구현\n",
    "    * PyPy\n",
    "         * JIT 구현\n",
    "    * Pyston\n",
    "         * LLVM JIT 구현"
   ]
  },
  {
   "cell_type": "markdown",
   "metadata": {
    "school_cell_uuid": "574813f26a9f4a62a41c89dea0bdc42a"
   },
   "source": [
    "## 파이썬의 버전"
   ]
  },
  {
   "cell_type": "markdown",
   "metadata": {
    "school_cell_uuid": "930452622c804b7c9484cd5338e07af6"
   },
   "source": [
    "Python은 다른 언어와 달리 두 개의 버전이 동시에 활발하게 사용되고 있다. 그 이유는 버전 2로부터 버전 3으로 변경되며 문법이 호환되지 않기 때문이다. 기존에 버전 2를 사용하고 있던 사용자의 경우 버전 3으로 코드를 변경해야 하는 어려움이 있고 일부 패키지의 경우 아예 버전 3을 지원하지 않아 이러한 패키지를 사용하는 사람은 불가피하게 버전 2를 계속 사용할 수 밖에 없다."
   ]
  },
  {
   "cell_type": "markdown",
   "metadata": {
    "bootstrap": {
     "panel": {
      "class": "panel-danger",
      "heading": ""
     }
    },
    "collapsed": true,
    "school_cell_uuid": "2ba41bc0177c48308e7bbb1491aa2471"
   },
   "source": [
    "* 버전 표기법\n",
    "     * major.minor.micro\n",
    "* 메이저 버전\n",
    "     * 버전 2\n",
    "         * 2017년 5월 현재 최신 버전 2.7.13\n",
    "     * 버전 3\n",
    "         * 2017년 5월 현재 최신 버전 3.6.1\n",
    "* 버전간 차이의 예\n",
    "    * 문자열 저장\n",
    "        * 버전 2는 문자열을 바이트열 형태로 저장, version 3는 유니코드 포인트로 변환하여 저장\n",
    "    * 문법 차이\n",
    "        * ``print`` 명령, 나누기 연산자(division operator) 등"
   ]
  },
  {
   "cell_type": "markdown",
   "metadata": {
    "school_cell_uuid": "7a6ffd4f12fc44f5a070304d05badcae"
   },
   "source": [
    "## 파이썬 설치"
   ]
  },
  {
   "cell_type": "markdown",
   "metadata": {
    "school_cell_uuid": "01b1819a23e34719b068f91acf74da53"
   },
   "source": [
    "파이썬의 종류와 버전에 대해 알아보았으니 이제 파이썬을 설치해보기로 하자 \n",
    "\n",
    "만약 리눅스나 맥 운영체제를 사용하고 있다면 대부분 파이썬이 설치되어 있을 것이다. 윈도우즈를 사용하고 있다면  파이썬 공식 웹사이트인  https://www.python.org 에서 파이썬 인터프리터를 다운로드 받아 설치할 수 있다. \n",
    "\n",
    "하지만 리눅스나 맥에 기본적으로 설치된 파이썬이나 공식 웹사이트에서 다운로드 받아서 설치하는 경우에는 파이썬 패키지 관리가 어렵고 여러가지 다양한 추가 도구를 별도로 설치해야 하기 때문에 권장하지 않는다. 대신에 다음에 설명하는 배포판을 이용하기를 권장한다."
   ]
  },
  {
   "cell_type": "markdown",
   "metadata": {
    "bootstrap": {
     "panel": {
      "class": "panel-danger",
      "heading": ""
     }
    },
    "school_cell_uuid": "e5cd149012ae44448d07e6198dcddf65"
   },
   "source": [
    "* https://www.python.org\n",
    "    * 파이썬을 사용할 수 있는 최소의 설치\n",
    "    * 기본적으로 인터프리터(interpreter)만 설치\n",
    "    * 권장하지 않는다."
   ]
  },
  {
   "cell_type": "markdown",
   "metadata": {
    "school_cell_uuid": "71d00ef1ac2f4663bcf50a699db6b350"
   },
   "source": [
    "## 파이썬 배포판(Distrubutions)"
   ]
  },
  {
   "cell_type": "markdown",
   "metadata": {
    "school_cell_uuid": "4462ea7e3b814074a881dfe2ab38538e"
   },
   "source": [
    "파이썬은 기본 파이썬 인터프리터 이외에도 다양한 패키지와 개발 도구를 함께 설치해 주는 배포판(distribution)으로 설치하는 것이 좋다. 여러가지 배포판이 존재하기 때문에 사용하고자 하는 운영체제, 32/64 비트 지원 여부, 무료/상용 여부를 잘 고려하여 선택해야 한다."
   ]
  },
  {
   "cell_type": "markdown",
   "metadata": {
    "bootstrap": {
     "panel": {
      "class": "panel-danger",
      "heading": ""
     }
    },
    "collapsed": true,
    "school_cell_uuid": "9969ca2fb56f4099baa668d10f695e76"
   },
   "source": [
    "* 인터프리터 및 패키지(라이브러리), 패키지 관리 시스템, 콘솔(console), 강화된 인터프리터(enhanced interpreter) 등을 포함\n",
    "\n",
    "* 배포판의 종류\n",
    "    * ActiveState \n",
    "    * pythonxy\n",
    "    * winpython\n",
    "    * Conceptive \n",
    "    * Enthought Canopy\n",
    "    * PyIMSL Studio\n",
    "    * eGenix PyRun\n",
    "    * Anaconda"
   ]
  },
  {
   "cell_type": "markdown",
   "metadata": {
    "school_cell_uuid": "c9dd95d9bdd14cd5ac3ce8e2f7a6d82a"
   },
   "source": [
    "##  아나콘다 (Anaconda) 배포판"
   ]
  },
  {
   "cell_type": "markdown",
   "metadata": {
    "school_cell_uuid": "4f5ac78fbcfc4d07a3b7ec847cc8a066"
   },
   "source": [
    "여러가지 배포판 중에서 현재 가장 널리 사용되는 파이썬 배포판은 컨티눔(Continuum)사가 제작한 아나콘다(Anaconda)라는 배포판이다. 아나콘다는 여러가지 배포판 중에서 가장 늦게 발표되었음에도 불구하고 뛰어난 완성도로 인해 현재 가장 널리 사용되는 사실상의 표준(de facto standard) 파이썬 배포판이 되었다.\n",
    " \n",
    "아나콘다 배포판은 모든 패키지가 컴파일이 필요없는 바이너리(binary) 형태로 제공되기 때문에 설치 속도가 빠르고 패키지 의존성을 관리해주므로 패키지 관리가 편리하다."
   ]
  },
  {
   "cell_type": "markdown",
   "metadata": {
    "bootstrap": {
     "panel": {
      "class": "panel-danger",
      "heading": ""
     }
    },
    "collapsed": true,
    "school_cell_uuid": "fc7de8411741456cb1c181c1f777871f"
   },
   "source": [
    "* 아나콘다 (Anaconda) 배포판\n",
    "    * 가장 후발 주자 (2012년 설립)\n",
    "    * 2017년 현재 사실상의 표준(de facto standard)\n",
    "    * 모든 플랫폼(윈도우즈/리눅스/맥 32비트/64비트)에 대해 완벽한 패키지 제공"
   ]
  },
  {
   "cell_type": "markdown",
   "metadata": {
    "school_cell_uuid": "d1c41e1b62b5476298ece7ccfa035a97"
   },
   "source": [
    "아나콘다 배포판을 설치하는 방법은 아주 쉽다. https://www.continuum.io/downloads 웹사이트에서 원하는 운영체제와 버전을 선택하여 다운로드 받은 뒤, 원클릭으로 설치할 수 있다. \n",
    "\n",
    "다운로드를 받을 때는 자신이 사용하는 운영체제용 설치 파일을 선택하여 다운로드 받는다. 버전 2와 3 중 어느것을 선택해도 상관없다. 아나콘다를 사용하는 경우에는 가상 환경 설정이 쉽기 때문이다. 즉 버전 2를 일단 설치한 후에도 가상 환경을 사용하여 버전 3를 추가로 설치할 수 있기 때문이다. 여기에서는 모든 예제 코드가 버전 2.7 기준으로 되어 있으므로 버전 2를 다운로드 받으면 바로 예제 코드를 실행할 수 있다.\n",
    "\n",
    "일단 다운로드 받은 후에는 간단하게 설치할 수 있다. 윈도우즈의 경우에는 다운로드 받은 파일을 더블클릭하면 설치가 쉽게 이루어진다."
   ]
  },
  {
   "cell_type": "markdown",
   "metadata": {
    "bootstrap": {
     "panel": {
      "class": "panel-danger",
      "heading": ""
     }
    },
    "collapsed": true,
    "school_cell_uuid": "bc323ffc2f18495e927286c776b32491"
   },
   "source": [
    "* 아니콘다 배포판 설치\n",
    "\n",
    "    * https://www.continuum.io/downloads 에서 다운로드\n",
    "    * 파이썬 2.7, 64bit 추천\n",
    "    * 원클릭 설치"
   ]
  },
  {
   "cell_type": "markdown",
   "metadata": {
    "school_cell_uuid": "645ebfa368b14aeb9293383f4c0e2a20"
   },
   "source": [
    "아나콘다의 설치 위치는 사용자가 지정할 수 있다. 파이썬 버전 2를 선택한 경우, 보통은 ``C:/사용자 홈 디렉토리/anaconda2`` 디렉토리에 설치되지만 여기에서는 ``C:/Anaconda2`` 에 설치된다고 가정하였다."
   ]
  },
  {
   "cell_type": "markdown",
   "metadata": {
    "school_cell_uuid": "937d68f1af9f4c4d8b8af0d463ccf44f"
   },
   "source": [
    "아나콘다 배포판 설치가 완료되면 윈도우즈 운영체제의 경우 그림과 같이 Anaconda2(버전 2의 경우) 또는 Anaconda3(버전 3의 경우)이라는 아이콘 그룹이 생기고 그 아래에 다음과 같은 메뉴가 만들어진다.\n",
    "\n",
    "* Anaconda Prompt\n",
    "* IPython\n",
    "* Jupyter Notebook\n",
    "* Jupyter QTConsole\n",
    "* Spyder"
   ]
  },
  {
   "cell_type": "markdown",
   "metadata": {
    "bootstrap": {
     "panel": {
      "class": "panel-danger",
      "heading": ""
     }
    },
    "collapsed": true,
    "school_cell_uuid": "b6226c98c13b4b54a6968a3c20699510"
   },
   "source": [
    "<img src=\"https://datascienceschool.net/upfiles/1d8672490a8845f6a44af3c2a9036979.png\" style=\"width: 50%;\">"
   ]
  },
  {
   "cell_type": "markdown",
   "metadata": {
    "school_cell_uuid": "d86edcfc25fa478aa7843fd87064ca59"
   },
   "source": [
    "## 패키지 관리"
   ]
  },
  {
   "cell_type": "markdown",
   "metadata": {
    "school_cell_uuid": "306cee6a09094176a89f7a572df6a01a"
   },
   "source": [
    "설치가 완료되면 어떤 파이썬 패키지들이 설치되었는지 확인하자. 패키지 관리자에는 기본 파이썬 패키지 관리자인 ``pip`` 와 아나콘다에서 지원하는 ``conda`` 가 있다.  콘솔 창을 열고 다음 명령들을 실행해 본다."
   ]
  },
  {
   "cell_type": "markdown",
   "metadata": {
    "school_cell_uuid": "e2d8e12a3a614c68baa2a912525f07dd"
   },
   "source": [
    "### pip 패키지 관리자 "
   ]
  },
  {
   "cell_type": "markdown",
   "metadata": {
    "school_cell_uuid": "108d24693fa44a6fbaa9c489895b0596"
   },
   "source": [
    "pip 는 파이썬에서 기본으로 제공하는 패키지 관리자이다.  ``list`` 커맨드로 설치된 패키지 목록을 볼 수 있다.\n",
    "\n",
    "```\n",
    "$ pip list \n",
    "\n",
    "alabaster (0.7.9)\n",
    "APScheduler (3.3.1)\n",
    "Babel (2.3.4)\n",
    "backports-abc (0.5)\n",
    "backports.shutil-get-terminal-size (1.0.0)\n",
    "backports.ssl-match-hostname (3.4.0.2)\n",
    "colorama (0.3.7)\n",
    "CommonMark (0.5.4)\n",
    "configparser (3.5.0)\n",
    "coverage (4.2)\n",
    "cycler (0.10.0)\n",
    "Cython (0.25.2)\n",
    "decorator (4.0.10)\n",
    "docutils (0.13.1)\n",
    "dralgo (0.7, d:\\code\\dralgo)\n",
    "enum34 (1.1.6)\n",
    "funcsigs (1.0.2)\n",
    "future (0.16.0)\n",
    "futures (3.0.5)\n",
    "\n",
    "... (이하 생략)\n",
    "\n",
    "```\n"
   ]
  },
  {
   "cell_type": "markdown",
   "metadata": {
    "school_cell_uuid": "27cc5a6e9baa470699703f0112c1b27b"
   },
   "source": [
    "### conda 패키지 관리자"
   ]
  },
  {
   "cell_type": "markdown",
   "metadata": {
    "school_cell_uuid": "008852d5f880443989239fbec5c031a3"
   },
   "source": [
    "conda 는 Anaconda 배포판에서 파이썬 패키지(라이브러리)를 설치하고 관리하는 역할을 하는 프로그램이다. ``pip``와 마찬가지로  ``list`` 커맨드를 이용하여 설치된 패키지 목록을 볼 수 있다.\n",
    "\n",
    "```\n",
    "conda list\n",
    "\n",
    "# packages in environment at C:\\Anaconda2\\envs\\dralgo:\n",
    "#\n",
    "alabaster                 0.7.9                    py27_0\n",
    "APScheduler               3.3.1                     <pip>\n",
    "babel                     2.3.4                    py27_0\n",
    "backports                 1.0                      py27_0\n",
    "backports_abc             0.5                      py27_0\n",
    "bzip2                     1.0.6                     vc9_3  [vc9]\n",
    "colorama                  0.3.7                    py27_0\n",
    "CommonMark                0.5.4                     <pip>\n",
    "configparser              3.5.0                    py27_0\n",
    "coverage                  4.2                      py27_0\n",
    "cycler                    0.10.0                   py27_0\n",
    "cython                    0.25.2                   py27_0\n",
    "dateutil                  2.4.1                    py27_0\n",
    "decorator                 4.0.10                   py27_1\n",
    "docutils                  0.13.1                    <pip>\n",
    "enum34                    1.1.6                    py27_0\n",
    "funcsigs                  1.0.2                    py27_0\n",
    "future                    0.16.0                   py27_0\n",
    "futures                   3.0.5                    py27_0\n",
    "\n",
    "... (이하 생략)\n",
    "```"
   ]
  },
  {
   "cell_type": "markdown",
   "metadata": {
    "school_cell_uuid": "c98644a3af294041937f08528720d1fb"
   },
   "source": [
    "## 파이썬 동작 확인"
   ]
  },
  {
   "cell_type": "markdown",
   "metadata": {
    "school_cell_uuid": "9ed882c016b640a08b87d9025c6e0e39"
   },
   "source": [
    "패키지 설치를 확인하였으면 콘솔 창에 다음과 같이 입력하여 기본 파이썬 인터프리터를 실행한다. \n",
    "\n",
    "정상적으로 실행된다면 파이썬 버전 번호를 포함한 환경 메세지가 나오고  ``>>>`` 형태의 프롬프트가 나온다.\n",
    "파이썬 인터프리터를 종료하려면 ``exit()``  명령을 실행한다."
   ]
  },
  {
   "cell_type": "markdown",
   "metadata": {
    "school_cell_uuid": "f50ad6740b8a4be4948e45c38dafd80c"
   },
   "source": [
    "```\n",
    "$ python\n",
    "Python 2.7.11 |Anaconda custom (64-bit)| (default, Dec  6 2015, 18:08:32)\n",
    "[GCC 4.4.7 20120313 (Red Hat 4.4.7-1)] on linux2\n",
    "Type \"help\", \"copyright\", \"credits\" or \"license\" for more information.\n",
    "Anaconda is brought to you by Continuum Analytics.\n",
    "Please check out: http://continuum.io/thanks and https://anaconda.org\n",
    ">>>\n",
    ">>> exit()\n",
    "```"
   ]
  },
  {
   "cell_type": "markdown",
   "metadata": {
    "school_cell_uuid": "bd85616ef63f49c6af61cc8b8e742a4b"
   },
   "source": [
    "## IPython 콘솔 동작 확인"
   ]
  },
  {
   "cell_type": "markdown",
   "metadata": {
    "school_cell_uuid": "d21be89e83934a36b7829218687390c2"
   },
   "source": [
    "이번에는 콘솔 창에 다음과 같이 입력하여 기본 파이썬 인터프리터보다 기능이 강화된 파이썬 인터프리터인 IPython(아이 파이썬이라고 읽는다)을 실행한다. \n",
    "\n",
    "프롬프트가 아까와 달리 ``In [1]`` 과 같은 형태이다. IPython을 종료하려면 ``exit`` 라고 만 치면 된다. (함수 호출을 위한 괄호는 필요없다.)"
   ]
  },
  {
   "cell_type": "markdown",
   "metadata": {
    "school_cell_uuid": "ae85131ab09b4375aa7924f22b82e468"
   },
   "source": [
    "```\n",
    "$ ipython\n",
    "파이썬 2.7.11 |Anaconda custom (64-bit)| (default, Dec  6 2015, 18:08:32)\n",
    "Type \"copyright\", \"credits\" or \"license\" for more information.\n",
    "\n",
    "IPython 4.1.2 -- An enhanced Interactive 파이썬.\n",
    "?         -> Introduction and overview of IPython's features.\n",
    "%quickref -> Quick reference.\n",
    "help      -> 파이썬's own help system.\n",
    "object?   -> Details about 'object', use 'object??' for extra details.\n",
    "\n",
    "In [1]:\n",
    "\n",
    "In [1]: exit\n",
    "\n",
    "```"
   ]
  },
  {
   "cell_type": "markdown",
   "metadata": {
    "school_cell_uuid": "789adef27e3a4feea8cd542dabcca0e1"
   },
   "source": [
    "### 주피터 QTConsole  동작 확인"
   ]
  },
  {
   "cell_type": "markdown",
   "metadata": {
    "school_cell_uuid": "f2dd9fe1561d4f779a6f13d2de1d5915"
   },
   "source": [
    "주피터(Jupyter) QTConsole은 기본 파이썬 인터프리터나 IPython처럼 콘솔에서 실행되지 않고 별도의 윈도우를 가지는 GUI 어플리케이션이다. 사용 방법은 IPython과 같다. "
   ]
  },
  {
   "cell_type": "markdown",
   "metadata": {
    "school_cell_uuid": "8b9b63d4d0244bceb7516db71f74ccdd"
   },
   "source": [
    "윈도우즈에서는 다음과 같이 메뉴를 선택하여 실행할 수 있다. \n",
    "\n",
    "* 모든 프로그램 > Anaconda2 > Jupyter QTConsole \n",
    "\n",
    "또는 콘솔에서 다음과 같이 입력해도 된다.\n",
    "\n",
    "```\n",
    "$ jupyter qtconsole \n",
    "```\n",
    "\n",
    "리눅스의 경우 X-window가 없고 콘솔만 지원하는 서버 환경에서는 실행되지 않는다."
   ]
  },
  {
   "cell_type": "markdown",
   "metadata": {
    "school_cell_uuid": "76600a3e70d54f9a83e0e4c96e62d8a9"
   },
   "source": [
    "<img src=\"https://datascienceschool.net/upfiles/1d150e89cfd54b4d9352d0c3bd849ce9.png\" style=\"width:100%;\">"
   ]
  },
  {
   "cell_type": "markdown",
   "metadata": {
    "school_cell_uuid": "789adef27e3a4feea8cd542dabcca0e1"
   },
   "source": [
    "## 주피터 노트북  동작 확인"
   ]
  },
  {
   "cell_type": "markdown",
   "metadata": {
    "school_cell_uuid": "09070e1d5558493ca17af474f62d0cc8"
   },
   "source": [
    "주피터 노트북(Jupyter Notebook)은 웹 브라우저를 사용하여 문서와 코드를 동시에 지원하는 개발 도구이다.  웹서버의 형태로 구현되어 있다."
   ]
  },
  {
   "cell_type": "markdown",
   "metadata": {
    "school_cell_uuid": "ea7f759be4aa4031a3ca6e4e771336ed"
   },
   "source": [
    "주피터 노트북을 실행하려면 윈도우즈에서 다음과 같이 메뉴를 선택한다.\n",
    "\n",
    "* 모든 프로그램 > Anaconda2 > Jupyter Notebook \n",
    "\n",
    "또는 콘솔에서 다음과 같이 입력해도 된다.\n",
    "\n",
    "```\n",
    "$ jupyter notebook\n",
    "```\n"
   ]
  },
  {
   "cell_type": "markdown",
   "metadata": {
    "school_cell_uuid": "a03f1e6d0ed64448ab2af9e128f5b7f8"
   },
   "source": [
    "주피터 노트북을 실행하면 웹서버 프로세스가 돌아가는 콘솔창이 실행되고 동시에 http://localhost:8888/tree 주소로 웹 브라우저가 가동된다. 만약 자동으로 실행되지 않는다면 웹 프라이저를 가동하고 http://localhost:8888/tree 주소를 입력한다.\n",
    "\n",
    "웹서버 프로세스가 돌아가는 콘솔창을 죽이면 주피터 노트북 웹서버가 중지되므로 주피터 노트북 사용이 끝날 때까지 이 콘솔을 없애면 안된다."
   ]
  },
  {
   "cell_type": "markdown",
   "metadata": {
    "school_cell_uuid": "76600a3e70d54f9a83e0e4c96e62d8a9"
   },
   "source": [
    "<img src=\"https://datascienceschool.net/upfiles/a54ef19c230b446cb9844c5b54a7f465.png\" style=\"width:100%;\">"
   ]
  }
 ],
 "metadata": {
  "celltoolbar": "Edit Metadata",
  "kernelspec": {
   "display_name": "Bash",
   "language": "bash",
   "name": "bash"
  },
  "language_info": {
   "codemirror_mode": "shell",
   "file_extension": ".sh",
   "mimetype": "text/x-sh",
   "name": "bash"
  }
 },
 "nbformat": 4,
 "nbformat_minor": 0
}