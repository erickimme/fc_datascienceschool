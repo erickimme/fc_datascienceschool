{
 "cells": [
  {
   "cell_type": "markdown",
   "metadata": {
    "school_cell_uuid": "48df48a2acb1428785d44fe72113b3d0"
   },
   "source": [
    "# 도커 이미지 설치 및 실행"
   ]
  },
  {
   "cell_type": "markdown",
   "metadata": {
    "school_cell_uuid": "2f9c0b4fb44b48ac86da4727a90b9316"
   },
   "source": [
    "## datascienceschool/rpython 도커 이미지"
   ]
  },
  {
   "cell_type": "markdown",
   "metadata": {
    "school_cell_uuid": "96a6456dc4a34d84a5e254176c270929"
   },
   "source": [
    "저자는 데이터 분석 환경을 쉽게 설치할 수 있도록 R와 파이썬 등 데이터 분석에 필요한 모든 소프트웨어를 설치한 리눅스 환경을 ``datascienceschool/rpython`` 라는 이름의 도커 이미지로 만들어 도커 허브(docker hub)라고 하는 웹사이트에 올려놓았다.\n",
    "\n",
    "* https://hub.docker.com/r/datascienceschool/rpython/\n",
    "\n",
    "``datascienceschool/rpython``은 리눅스 환경에서 R 혹은 파이썬을 사용하여 데이터 분석을 하는데 필요한 대부분의 소프트웨어를 포함하고 있기 때문에 별도의 복잡한 설치 과정 없이 바로 데이터 분석을 시작할 수 있다.\n",
    "\n",
    "``datascienceschool/rpython`` 이미지에 포함된 운영체제나 소프트웨어들은 다음과 같다.\n",
    "\n",
    "* 운영체제\n",
    "    * 우분투 16.04\n",
    "* 파이썬\n",
    "    * 버전 2.7.13 (아나콘다 2.4.3)\n",
    "    * ipython, numpy, scipy, pandas, matplotlib, seaborn, scikit-learn, nlpy, gensim, theano, tensorflow, keras 등 \n",
    "* R \n",
    "    * 버전 3.3.3\n",
    "    *  RStudio\n",
    "* 유틸리티\n",
    "    * git, vim, emacs, tex-live, pandoc, graphviz, imagemagick 등\n"
   ]
  },
  {
   "cell_type": "markdown",
   "metadata": {
    "school_cell_uuid": "0c723abf71864cb3b33805c58ef4e41a"
   },
   "source": [
    "이 이미지에는 ``dockeruser`` 라는 이름의 계정이 이미 만들어져 있으며 이 계정으로 사용하는 것을 권장한다. 계정의 암호는 ``dockeruserpass`` 로 설정되어 있다.\n",
    "\n",
    "* 계정 이름:  ``dockeruser`` \n",
    "* 계정 암호: ``dockeruserpass`` "
   ]
  },
  {
   "cell_type": "markdown",
   "metadata": {
    "school_cell_uuid": "f829638e4bf44ea1b45f2c09f20a6912"
   },
   "source": [
    "또한 파이썬 사용을 쉽게 하기 위해 다음과 같은 startup 파일 및 설정 파일이 포함되어 있다. 따라서 자주 사용하는 패키지는 별도의 ``import`` 명령 없이 바로 사용할 수 있다.\n",
    "\n",
    "* startup 파일 : ``/home/dockeruser/.ipython/profile_default/startup/00.py``\n",
    "    ```\n",
    "    import numpy as np\n",
    "    import scipy as sp\n",
    "    import pandas as pd\n",
    "    import statsmodels.api as sm\n",
    "    import statsmodels.formula.api as smf\n",
    "    import statsmodels.stats.api as sms\n",
    "    import sklearn as sk\n",
    "\n",
    "    import matplotlib as mpl\n",
    "    mpl.use('Agg')\n",
    "    import matplotlib.pylab as plt\n",
    "    from mpl_toolkits.mplot3d import Axes3D\n",
    "\n",
    "    import seaborn as sns\n",
    "    sns.set()\n",
    "    sns.set_style(\"whitegrid\")\n",
    "    sns.set_color_codes()\n",
    "    ```\n",
    "* ipython 설정 파일 : ``/home/dockeruser/.ipython/profile_default/ipython_config.py``\n",
    "\n",
    "    ```\n",
    "    c = get_config()\n",
    "\n",
    "    c.InteractiveShellApp.exec_lines = [\n",
    "        \"from __future__ import division\",\n",
    "        \"from __future__ import print_function\",\n",
    "        \"mpl.rc('font', family='nanumgothic')\",\n",
    "        \"mpl.rc('axes', unicode_minus=False)\",\n",
    "        \"mpl.rc('figure', figsize=(11, 8))\",\n",
    "        \"mpl.rc('figure', dpi=300)\",\n",
    "    ]\n",
    "    ```\n",
    "* ipython 커널 설정 파일 : ``/home/dockeruser/.ipython/profile_default/ipython_kernel_config.py``\n",
    "\n",
    "    ```\n",
    "    c = get_config()\n",
    "\n",
    "    c.InteractiveShellApp.matplotlib = \"inline\"\n",
    "    c.InlineBackend.figure_format = \"png\"\n",
    "    ```\n"
   ]
  },
  {
   "cell_type": "markdown",
   "metadata": {
    "school_cell_uuid": "da26f94eb5cf4db5ad5b60d84d85b51d"
   },
   "source": [
    "``datascienceschool/rpython`` 이미지에 대해 더 자세히 알고 싶다면 이미지 제작용 소스 코드가 올라가 있는 다음 깃허브 레포지토리를 참조한다.\n",
    "\n",
    "* [https://github.com/datascienceschool/docker_rpython](https://github.com/datascienceschool/docker_rpython)"
   ]
  },
  {
   "cell_type": "markdown",
   "metadata": {
    "school_cell_uuid": "0c36c0d74cb84164b52b3f6bde7db31a"
   },
   "source": [
    "## 도커 이미지 다운로드"
   ]
  },
  {
   "cell_type": "markdown",
   "metadata": {
    "school_cell_uuid": "c6c55d390f7c4df6acf39a8c8f774d9d"
   },
   "source": [
    "`datascienceschool/rpython` 도커 이미지를 다운로드 받아서 설치하기 위해서는 우선 앞절에 설명한 바와 같이 도커 툴박스부터 설치하고 **도커 퀵스타트 터미널**(Docker Quickstart Terminal, 이하 **도커 터미널**로 부른다.)을 실행해야 한다.\n",
    "\n",
    "도커 툴박스가 정상적으로 설치된 경우, 도커 터미널을 실행하면 다음과 같은 화면이 뜰 것이다. 처음 실행하는 경우에는 수 분이 걸릴 수도 있다."
   ]
  },
  {
   "cell_type": "markdown",
   "metadata": {
    "school_cell_uuid": "ff602d5101fa4d54a6551d0b2bdda6b5"
   },
   "source": [
    "```\n",
    "                        ##         .\n",
    "                  ## ## ##        ==\n",
    "               ## ## ## ## ##    ===\n",
    "           /\"\"\"\"\"\"\"\"\"\"\"\"\"\"\"\"\"\\___/ ===\n",
    "      ~~~ {~~ ~~~~ ~~~ ~~~~ ~~~ ~ /  ===- ~~~\n",
    "           \\______ o           __/\n",
    "             \\    \\         __/\n",
    "              \\____\\_______/\n",
    "\n",
    "docker is configured to use the default machine with IP 192.168.99.100\n",
    "For help getting started, check out the docs at https://docs.docker.com\n",
    "\n",
    "\n",
    "user@PC MINGW64 ~\n",
    "$\n",
    "```"
   ]
  },
  {
   "cell_type": "markdown",
   "metadata": {
    "school_cell_uuid": "27850a4bd2f2409b944d36fe0fd99347"
   },
   "source": [
    "이 화면에서 다음과 같이 입력한다. 이 때 가장 앞의 달러표시($)는 터미널의 프롬프트(prompt)를 뜻하는 것으로 사용자가 입력하는 것이 아니다."
   ]
  },
  {
   "cell_type": "markdown",
   "metadata": {
    "school_cell_uuid": "3fc477c610cd489f934c500ac413a5a1"
   },
   "source": [
    "```\n",
    "$ docker pull datascienceschool/rpython:latest\n",
    "```"
   ]
  },
  {
   "cell_type": "markdown",
   "metadata": {
    "school_cell_uuid": "7d3cb6aaa3a04a1385b47c6dd68c02d2"
   },
   "source": [
    "이 명령을 실행하면 도커 이미지를 다운로드 받기 시작한다. 네트워크 상태에 따라 다운로드에 약 10분 ~ 20분이 소요될 수 있다. 다음과 같은 화면이 나타나면 다운로드가 완료된 것이다."
   ]
  },
  {
   "cell_type": "markdown",
   "metadata": {
    "school_cell_uuid": "f51ff238e61a44e4915c04806d01eeb4",
    "sidetitle": true
   },
   "source": [
    "그림: 도커 이미지 다운로드 화면"
   ]
  },
  {
   "cell_type": "markdown",
   "metadata": {
    "school_cell_uuid": "f1e00324719a477d99dda6d2d9c3055c"
   },
   "source": [
    "<img src=\"https://datascienceschool.net/upfiles/0ba55e7d12fd4b93821bb125357335d3.png\" style=\"width: 100%\">"
   ]
  },
  {
   "cell_type": "markdown",
   "metadata": {
    "school_cell_uuid": "880454ecd0f149ce8ff39353218737b7"
   },
   "source": [
    "이미지를 정상적으로 다운로드 하였는지 확인하기 위해 다음과 같이 `docker images` 명령으로 현재 존재하는 도커 이미지 목록을 출력한다."
   ]
  },
  {
   "cell_type": "markdown",
   "metadata": {
    "school_cell_uuid": "5d7541d7c57447c3b97caa77c104f724"
   },
   "source": [
    "```\n",
    "$ docker images\n",
    "REPOSITORY                  TAG                 IMAGE ID            CREATED              SIZE\n",
    "datascienceschool/rpython   latest              ce2aabd3c3d0        1 minutes ago        11.54 GB\n",
    "```"
   ]
  },
  {
   "cell_type": "markdown",
   "metadata": {
    "school_cell_uuid": "d45e3cddba244eacb494aefc1c9a761d"
   },
   "source": [
    "목록에 datascienceschool/rpython 가 나타났다면 정상적으로 다운로드 된 것이다. 도커 이미지 다운로드 후의 전체 모습은 다음과 같다."
   ]
  },
  {
   "cell_type": "markdown",
   "metadata": {
    "school_cell_uuid": "351b8f28c9834cac8ab13c8567d01503",
    "sidetitle": true
   },
   "source": [
    "그림: 도커 이미지 다운로드 후의 상태"
   ]
  },
  {
   "cell_type": "markdown",
   "metadata": {
    "school_cell_uuid": "cfbc377bc6fb4227955b49b34d49c108"
   },
   "source": [
    "<img src=\"https://datascienceschool.net/upfiles/48c119e9d737436dbb259d487d179cc5.png\" style=\"width: 100%, margin: 0 auto 0 auto;\">"
   ]
  },
  {
   "cell_type": "markdown",
   "metadata": {
    "school_cell_uuid": "c404f98b7c2c4ee3911177da9cd7023e"
   },
   "source": [
    "## datascienceschool/rpython 컨테이너 실행"
   ]
  },
  {
   "cell_type": "markdown",
   "metadata": {
    "school_cell_uuid": "7e34da30c68846cdbcff04e808abc72e"
   },
   "source": [
    "컨테이너를 실행하기 전에 우선 자신의 호스트 컴퓨터의 계정이름과 홈 디렉토리를 확인한다. 만약 윈도우즈 운영체제를 사용하고 있고 사용자 이름이 ``jane`` 이면 홈 디렉토리는 아마도 ``c:\\Users\\jane`` 일 것이다. 이 디렉토리는 도커 퀵스타트 터미널에서 ``/c/Users/jane`` 이라는 이름이 된다.\n",
    "\n",
    "호스트 계정 이름을 알았으면 이제 분석 환경을 담고 있는 datascienceschool/rpython 이미지를 실행해 보자. 다음 명령을 실행한다. ``호스트계정이름`` 이라고 되어 있는 부분에는 자신의 호스트 계정 이름을 대신 써 넣는다. 만약 호스트 계정 이름이 빈칸을 포함하고 있다면 따옴표로 전체 폴더 패스를 감싸야 한다.\n",
    "\n",
    "Mac OS 의 경우에는 홈 디렉토리 경로를 `/Users/호스트계정이름` 으로 설정한다."
   ]
  },
  {
   "cell_type": "markdown",
   "metadata": {
    "school_cell_uuid": "e5f99f39a4e046c988637a20e357cc3a"
   },
   "source": [
    "```\n",
    "$ docker run -Pit --name rpython -p 8888:8888 -p 8787:8787 -p 6006:6006 -p 8022:22 -v /c/Users/호스트계정이름:/home/dockeruser/hosthome datascienceschool/rpython\n",
    "```"
   ]
  },
  {
   "cell_type": "markdown",
   "metadata": {
    "school_cell_uuid": "bba6c9f6a1c84232a4284b76ff418ca7"
   },
   "source": [
    "위 명령의 의미는 다음과 같다.\n",
    "\n",
    "* `docker run` \n",
    "    * 도커 컨테이너를 최초로 실행하는 명령\n",
    "* `-Pit` 옵션  \n",
    "    * 컨테이너에서 사용하는 모든 네트워크 포트(port)를 외부로 개방하고 셸을 사용하기 위한 옵션\n",
    "* `-p` 옵션 \n",
    "    * 컨테이너 내부의 포트를 호스트 컴퓨터로 열어준다. 포트는 일단 run 명령을 실행할 때만 열 수 있기 때문에 앞으로 사용할 포트는 미리 열어주어야 한다. \n",
    "    * 여기에서는 8888, 8787, 6006 포트는 같은 포트 번호로 열었고 22 포트는 8022 로 변경하여 열었다. 따라서 호스트에서는 8022번을 접속하면 컨테이너에서는 22번 포트가 접속된 것으로 인식한다. \n",
    "    * 각각의 포트는 다음 프로그램을 사용하기 위한 것이다. 접속 방법에 대해서는 이후에 자세히 설명한다.\n",
    "        * 8888: 주피터 노트북\n",
    "        * 8787: RStudio\n",
    "        * 6006: 텐서 플로우의 텐서 보드\n",
    "        * 22: ssh 서비스\n",
    "* ``-v`` 옵션\n",
    "    * 호스트와 도커 컨테이너간에 폴더를 공유하기 위한 옵션 \n",
    "    * 여기에서는 호스트 계정의 홈 디렉토리를 도커 컨테이너 안의 ``/home/dockeruser/hosthome`` 이라는 이름의 디렉토리로 만들어 넣었다. 도커 컨테이너내에서 이 디렉토리로 들어가면 호스트 계정의 홈 디렉토리를 사용할 수 있다. 여기에서 파일과 디렉토리를 만들거나 변경, 삭제하면 호스트 컴퓨터의 파일도 영향을 받는다."
   ]
  },
  {
   "cell_type": "markdown",
   "metadata": {
    "school_cell_uuid": "bbedaeb4c86642e6a42feee52d97c114"
   },
   "source": [
    "정상적으로 동작하면 프롬프트가 다음과 같이 바뀌는 것을 볼 수 있다. 여기에서 `dockeruser` 는 도커 컨테이너안의 사용자 이름이고 `306d4d3d002b`는 도커 컨테이너 이름이다. 컨테이너 이름은 사용할 때마다 계속 달라질 수 있다."
   ]
  },
  {
   "cell_type": "markdown",
   "metadata": {
    "school_cell_uuid": "38f4b144888d4adf876fdf79904ed326"
   },
   "source": [
    "```\n",
    "dockeruser@306d4d3d002b:~$\n",
    "```"
   ]
  },
  {
   "cell_type": "markdown",
   "metadata": {
    "school_cell_uuid": "ffdd39be171a4ed5876ed9606e519c4e"
   },
   "source": [
    "만약 위의 명령을 실행했는데 다음과 같은 오류 메세지가 나온다면 이미 ``docker run`` 을 한 번 실행했기 때문이다. \n",
    "\n",
    "```\n",
    "Error response from daemon: Conflict. The name \"/rpython\" is already in use by container\n",
    "```\n",
    "\n",
    "이 경우에는 ``docker run`` 명령이 아니라 ``docker start rpython`` 을 실행해야 한다. 도커 명령에 대한 자세한 설명은 다음 절에 나온다."
   ]
  },
  {
   "cell_type": "markdown",
   "metadata": {
    "school_cell_uuid": "6368d3391af149448b03e922ababc274",
    "sidetitle": true
   },
   "source": [
    "그림: 도커 컨테이너 실행 이후의 상태"
   ]
  },
  {
   "cell_type": "markdown",
   "metadata": {
    "school_cell_uuid": "fb407121292b4f5e97783f18908d120d"
   },
   "source": [
    "<img src=\"https://datascienceschool.net/upfiles/f1ad43d74be7407ea4f63ee0e72daaac.png\" style=\"width: 100%, margin: 0 auto 0 auto;\">"
   ]
  },
  {
   "cell_type": "markdown",
   "metadata": {
    "school_cell_uuid": "4358db5fc00642aaabf62ec0200e45d9"
   },
   "source": [
    "자 이제 다시 정리해 보자. 여기가지 제대로 따라왔다면 여러분은 \n",
    "\n",
    "* 여러분 실제 컴퓨터의 윈도우즈 운영체제(호스트) 안의 \n",
    "* Oracle VM VirtualBox 가상 머신의 boot2docker 운영체제(가상 머신) 안의\n",
    "* 도커 datascienceschool/rpython 컨테이너의 우분투 리눅스 운영체제(도커 컨테이너) 안으로\n",
    "\n",
    "들어온 것이다."
   ]
  },
  {
   "cell_type": "markdown",
   "metadata": {
    "school_cell_uuid": "83391080500242b1954e5cbf21d24d6b"
   },
   "source": [
    "일단 컨테이너가 가동된 다음에는 고래 그림이 있는 도커 터미널 윈도우를 닫아도 된다. 단 ``exit`` 명령등은 사용하지 않고 윈도우의 `x` 표시를 누르는 방법으로 윈도우를 닫자. 윈도우를 닫아도 도커 컨테이너는 계속 가동되고 있으므로 걱정할 필요가 없다."
   ]
  },
  {
   "cell_type": "markdown",
   "metadata": {
    "school_cell_uuid": "81d649a2610c465386e5da35883e916b"
   },
   "source": [
    "## 주피터 노트북 사용"
   ]
  },
  {
   "cell_type": "markdown",
   "metadata": {
    "school_cell_uuid": "31875f6dfe85435ab91fe5a9d78594cd"
   },
   "source": [
    "주피터 노트북(Jupyter Notebook)은 웹 브라우저에서 R 또는 파이썬 등을 실행 시킬 수 있는 다중 언어 실행 환경이다. 주피터 노트북을 사용하려면 호스트 컴퓨터(윈도우즈나 매킨토시)에서 웹 브라우저를 띄운 다음 주소창에 다음 주소를 입력한다\n",
    "\n",
    "* http://192.168.99.100:8888/\n",
    " \n",
    "만약 자신의 컴퓨터에서 만들어진 가상 머신의 IP 주소가 192.168.99.100 이 아닌 경우에는 해당 주소를 사용해야 한다.\n",
    "\n",
    "정상적으로 작동한다면 다음과 같이 주피터 노트북 홈페이지가 나타난다."
   ]
  },
  {
   "cell_type": "markdown",
   "metadata": {
    "school_cell_uuid": "ff429fddc04a4cb4b2253158b3db6a15",
    "sidetitle": true
   },
   "source": [
    "그림: 주피터 노트북 실행 화면"
   ]
  },
  {
   "cell_type": "markdown",
   "metadata": {
    "school_cell_uuid": "15ef3b3283aa44cb98ea65d1cf788761"
   },
   "source": [
    "<img src=\"https://datascienceschool.net/upfiles/5d083c410b0a464daf7d93342db876d2.png\" style=\"width: 100%;\">"
   ]
  },
  {
   "cell_type": "markdown",
   "metadata": {
    "school_cell_uuid": "de663add16c742cfa7c2827a78cb5430"
   },
   "source": [
    "## R과 RStudio 사용"
   ]
  },
  {
   "cell_type": "markdown",
   "metadata": {
    "school_cell_uuid": "1ee98a71bd4e4523a005253d9a8cb0b6"
   },
   "source": [
    "``datascienceschool/rpython`` 컨테이너 안에는 R과 대부분의 통계 분석용 R 패키지들이 이미 설치되어 있으므로 사용자가 따로 설치할 필요가 없다. 또한 RStudio(서버 버전)라고 하는 R용 통합 개발 환경도 설치되어 있다. RStudio를 실행하려면   호스트(윈도우즈나 매킨토시)에서 웹 브라우저를 시작하고 다음 주소를 입력한다\n",
    "\n",
    "* http://192.168.99.100:8787/\n",
    "\n",
    "정상적으로 작동한다면 다음과 같이 RStudio 로그인 화면이 나타난다."
   ]
  },
  {
   "cell_type": "markdown",
   "metadata": {
    "school_cell_uuid": "dedbcf9736664fbbaf680aa7e23a2d82",
    "sidetitle": true
   },
   "source": [
    "그림: RStudio 실행 화면"
   ]
  },
  {
   "cell_type": "markdown",
   "metadata": {
    "school_cell_uuid": "70066b75531d47e1a0e45f8bd142b06e"
   },
   "source": [
    "<img src=\"https://datascienceschool.net/upfiles/bd08636d5647455e9ba7fc58fe548c02.png\" style=\"width: 100%;\">"
   ]
  }
 ],
 "metadata": {
  "anaconda-cloud": {},
  "celltoolbar": "Edit Metadata",
  "kernelspec": {
   "display_name": "Python [conda root]",
   "language": "python",
   "name": "conda-root-py"
  },
  "language_info": {
   "codemirror_mode": {
    "name": "ipython",
    "version": 2
   },
   "file_extension": ".py",
   "mimetype": "text/x-python",
   "name": "python",
   "nbconvert_exporter": "python",
   "pygments_lexer": "ipython2",
   "version": "2.7.12"
  }
 },
 "nbformat": 4,
 "nbformat_minor": 0
}