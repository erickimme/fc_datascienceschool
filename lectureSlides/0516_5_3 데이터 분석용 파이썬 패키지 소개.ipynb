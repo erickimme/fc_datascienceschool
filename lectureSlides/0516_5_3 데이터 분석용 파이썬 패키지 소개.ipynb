{
 "cells": [
  {
   "cell_type": "markdown",
   "metadata": {
    "school_cell_uuid": "b11d0fb2f4d941289edc174c8e49759a"
   },
   "source": [
    "# 데이터 분석용 파이썬 패키지 소개"
   ]
  },
  {
   "cell_type": "markdown",
   "metadata": {
    "school_cell_uuid": "52bad49b517846c6b5b33281143b79fe"
   },
   "source": [
    "여러 분야에 사용할 수 있는 다양한 패키지를 가지고 있다는 점은 파이썬의 큰 장점이다. 2017년 5월 현재 PyPI 서버 ([https://pypi.python.org/pypi](https://pypi.python.org/pypi))를 통해 공식적으로 제공되는 파이썬 패키지의 숫자는 약 108,000 개이다. \n",
    "\n",
    "그 중 데이터 분석에 많이 사용되는 몇가지 유명한 패키지를 소개한다. 참고로 ``datascienceschool/rpython`` 도커 이미지에는 여기에서 소개하는 패키지가 모두 설치되어 있다."
   ]
  },
  {
   "cell_type": "markdown",
   "metadata": {
    "school_cell_uuid": "479deb8e51ab41a9a071e1bb19481207"
   },
   "source": [
    "## NumPy\n"
   ]
  },
  {
   "cell_type": "markdown",
   "metadata": {
    "school_cell_uuid": "d2292ce6948c4718b99320bcc463a642"
   },
   "source": [
    "NumPy(\"넘파이\"라고 읽는다) 패키지는 파이썬에서 수치 해석, 특히 선형 대수(linear algebra) 계산을 위한 패키지이다. 자료형이 고정된 다차원 배열 클래스(n-dimensional array)와 벡터화 연산(vectorized operation)을 지원하며 수학 연산을 위한 가장 기본적이고 중요한 패키지이다.\n",
    "\n",
    "원래는 파이썬에서 MATLAB과 같은 기능을 구현하고자 Numeric이라는 이름으로 프로젝트가 시작되었으나 2005년 Travis Oliphant에 의해 Numarray 패키지와 통합되며 NumPy라는 이름으로 바뀌었다. 내부적으로는 BLAS(Basic Linear Algebra Subprograms)와 LAPACK(Linear Algebra Package)이라고 하는 오픈 소스 선형 대수 라이브러리에 의존하며 CPython에서만 동작하도록 만들어졌다. "
   ]
  },
  {
   "cell_type": "markdown",
   "metadata": {
    "bootstrap": {
     "panel": {
      "class": "panel-default"
     }
    },
    "school_cell_uuid": "02713cae5445434d8298166fb1060715"
   },
   "source": [
    "* NumPy\n",
    "\n",
    "    * 수치해석 라이브러리\n",
    "    * http://www.numpy.org/\n",
    "    * 2005, Travis Oliphant"
   ]
  },
  {
   "cell_type": "markdown",
   "metadata": {
    "school_cell_uuid": "470ad764d22e4ddd9a1ee0ff0dafdf02"
   },
   "source": [
    "## SciPy"
   ]
  },
  {
   "cell_type": "markdown",
   "metadata": {
    "school_cell_uuid": "9a6108edf57a4b3bb123dce0691cad6c"
   },
   "source": [
    "SciPy(\"싸이파이\"라고 읽는다) 패키지는 고급 수학 함수, 수치적 미적분, 미분 방정식 계산, 최적화, 신호 처리 등을 위한 다양한 과학\n",
    "기술 계산 기능을 제공하는 패키지이다.\n",
    "\n",
    "SciPy 패키지는 Numeric 패키지 기반으로 만들어진 다양한 수치 해석 패키지들을 2001년에 Travis Oliphant와 Pearu Peterson 등이 통합, 재정리하여 만든 패키지이다."
   ]
  },
  {
   "cell_type": "markdown",
   "metadata": {
    "bootstrap": {
     "panel": {
      "class": "panel-default"
     }
    },
    "school_cell_uuid": "4b229d2b57b74e888ba6ae882da4c9c2"
   },
   "source": [
    "* SciPy\n",
    "\n",
    "    * 과학기술 함수 라이브러리\n",
    "    * http://www.scipy.org/\n",
    "    * 2001, Travis Oliphant, Pearu Peterson"
   ]
  },
  {
   "cell_type": "markdown",
   "metadata": {
    "school_cell_uuid": "79f54a710a1b40769bb6aa84e65f15e0"
   },
   "source": [
    "## SymPy"
   ]
  },
  {
   "cell_type": "markdown",
   "metadata": {
    "school_cell_uuid": "ccb3d2e287094f68a4b6a3b4cc5549f4"
   },
   "source": [
    "SymPy(\"심파이\"라고 읽는다) 패키지는 숫자를 더하거나 빼는 수치 연산이 아니라 인수 분해, 미분, 적분 등 심볼릭 연산을 위한 패키지이다. \n",
    "\n",
    "SymPy 프로젝트는 파이썬에 Mathematica와 같은 심볼릭 연산 기능을 넣고자 하는 노력으로 2006년에 Ondrej Certik에 의해 시작되었다. SymPy의 기능은 [http://live.sympy.org/](http://live.sympy.org/) 또는 [http://www.sympygamma.com/](http://www.sympygamma.com/) 웹사이트를 방문하면 브라우저 상에서 바로 확인할 수 있다."
   ]
  },
  {
   "cell_type": "markdown",
   "metadata": {
    "bootstrap": {
     "panel": {
      "class": "panel-default"
     }
    },
    "school_cell_uuid": "80bf267630274d2ab00938f91091dc79"
   },
   "source": [
    "* SymPy\n",
    "\n",
    "  * 심볼릭 연산 라이브러리\n",
    "  * http://www.sympy.org/\n",
    "  * 2006, Ondřej Čertík"
   ]
  },
  {
   "cell_type": "markdown",
   "metadata": {
    "school_cell_uuid": "82f439759220426d9bc49afe2918c6df"
   },
   "source": [
    "## Pandas"
   ]
  },
  {
   "cell_type": "markdown",
   "metadata": {
    "school_cell_uuid": "f63236158a644c63b6f1cf09461ef291"
   },
   "source": [
    "Pandas(\"판다스\"라고 읽는다) 패키지는 테이블 형태의 데이터를 다루기 위한 데이터프레임(DataFrame) 자료형을 제공하는 패키지이다. 자료의 탐색이나 정리에 아주 유용하여 데이터 분석에는 빠질 수 없는 필수적인 패키지이다.\n",
    "\n",
    "2008년도에 Wes McKinney에 의해 프로젝트가 시작되었다. 원래는 R 언어에서 제공하는 데이터프레임 자료형을 파이썬에서 제공할 수 있도록 하는 목적이었으나 다양한 기능을 추가되어 원래의 R 데이터프레임의 기능을 능가하는 대규모 프로젝트가 되었다."
   ]
  },
  {
   "cell_type": "markdown",
   "metadata": {
    "bootstrap": {
     "panel": {
      "class": "panel-default"
     }
    },
    "school_cell_uuid": "43d9e86077bd41f59827a85d126b6a51"
   },
   "source": [
    "* Pandas\n",
    "\n",
    "    * 데이터 분석 라이브러리. R의 data.frame 자료구조 구현\n",
    "    * http://pandas.pydata.org/\n",
    "    * 2008, Wes McKinney (AQR Capital Management)"
   ]
  },
  {
   "cell_type": "markdown",
   "metadata": {
    "school_cell_uuid": "8f85482a0161428fb08a848671a36df5"
   },
   "source": [
    "## Matplotlib"
   ]
  },
  {
   "cell_type": "markdown",
   "metadata": {
    "school_cell_uuid": "c89722c18afa428c9407e093ef1a8942"
   },
   "source": [
    "Matplotlib(\"맷플롯리브\"라고 읽는다) 패키지는 파이썬에서 각종 그래프나 챠트 등을 그리기 위한 시각화 패키지이다. Tkinter, wxPython, Qt, GTK+ 등의 다양한 그래픽 엔진을 사용할 수 있다. 또한 MATLAB 의 그래프 기능을 거의 동일하게 사용할 수 있는 pylab 이라는 서브패키지를 제공하므로 MATLAB 에 익숙한 사람들은 바로 Matplotlib 을 사용할 수 있다."
   ]
  },
  {
   "cell_type": "markdown",
   "metadata": {
    "bootstrap": {
     "panel": {
      "class": "panel-default"
     }
    },
    "school_cell_uuid": "493aa35ba040433d942b13100cdfa8d9"
   },
   "source": [
    "* Matplotlib\n",
    "\n",
    "    * 시각화 라이브러리, MATLAB 플롯 기능 구현\n",
    "    * http://matplotlib.org/\n",
    "    * 2002, John D. Hunter"
   ]
  },
  {
   "cell_type": "markdown",
   "metadata": {
    "school_cell_uuid": "b6e9e0e4552247288aa7ac68b77015ba"
   },
   "source": [
    "## Seaborn"
   ]
  },
  {
   "cell_type": "markdown",
   "metadata": {
    "school_cell_uuid": "1153ad175e904268a83492efd491117b"
   },
   "source": [
    "Seaborn(\"씨본\"이라고 읽는다) 패키지는 Matplotlib 패키지에서 지원하지 않는 고급 통계 챠트를 그리기 위한 통계용 시각화 패키지이다. "
   ]
  },
  {
   "cell_type": "markdown",
   "metadata": {
    "bootstrap": {
     "panel": {
      "class": "panel-default"
     }
    },
    "school_cell_uuid": "9348355ca1534a56a06257a111ec2df8"
   },
   "source": [
    "* Seaborn\n",
    "\n",
    "    * 시각화 라이브러리. 통계용 차트 및 컬러맵 추가\n",
    "    * https://stanford.edu/~mwaskom/software/seaborn/\n",
    "    * 2012, Michael Waskom"
   ]
  },
  {
   "cell_type": "markdown",
   "metadata": {
    "school_cell_uuid": "696df1695a9e48b49ba7247791525e02"
   },
   "source": [
    "## Bokeh"
   ]
  },
  {
   "cell_type": "markdown",
   "metadata": {
    "school_cell_uuid": "10d6a511e397419f8f09b41dde128ceb"
   },
   "source": [
    "Bokeh(\"보케\"라고 읽는다.) 패키지는 주피터 노트북이나 웹 상에서 자바스크립트로 그래프나 차트를 그려주는 파이썬 패키지이다. 챠트의 확대나 이동 등의 상호 작용이 가능하다."
   ]
  },
  {
   "cell_type": "markdown",
   "metadata": {
    "bootstrap": {
     "panel": {
      "class": "panel-default"
     }
    },
    "school_cell_uuid": "bc3eeb24bb0f459f8a8567539ce6a09d"
   },
   "source": [
    "* Bokeh\n",
    "\n",
    "    * 시각화 라이브러리. 웹상에서 인터액티브 플롯 구현\n",
    "    * http://bokeh.pydata.org\n",
    "    * 2012, Peter Wang"
   ]
  },
  {
   "cell_type": "markdown",
   "metadata": {
    "school_cell_uuid": "21ff2cbbb5014c3899f92fbcec8c1831"
   },
   "source": [
    "## Statsmodels"
   ]
  },
  {
   "cell_type": "markdown",
   "metadata": {
    "school_cell_uuid": "05d50a6cb3b345559f6a134903da2663"
   },
   "source": [
    "Statsmodels(\"스탯츠모델즈\"라고 읽는다) 패키지는 회귀 분석이나 시계열 분석을 위한 라이브러리이다."
   ]
  },
  {
   "cell_type": "markdown",
   "metadata": {
    "bootstrap": {
     "panel": {
      "class": "panel-default"
     }
    },
    "school_cell_uuid": "096a6de306264f1cafb83345b43ce85e"
   },
   "source": [
    "* Statsmodels\n",
    "\n",
    "    * 다변량 회귀 분석 및 시계열 분석 라이브러리\n",
    "    * http://statsmodels.sourceforge.net/stable/\n",
    "    * 2009, Skipper Seabold"
   ]
  },
  {
   "cell_type": "markdown",
   "metadata": {
    "school_cell_uuid": "8f11c6d4f13c43ba906dd6db6e6c1c6a"
   },
   "source": [
    "## Scikit-Learn"
   ]
  },
  {
   "cell_type": "markdown",
   "metadata": {
    "school_cell_uuid": "9d4d0d11727747939f42d3619722e247"
   },
   "source": [
    "Scikit-Learn(\"싸이킷런\"이라고 읽는다) 패키지는 머신러닝 학습용 패키지이다. 딥러닝을 제외한 대부분의 머신러닝 모형을 제공하므로 파이썬으로 머신러닝을 공부하고자 하는 사람들에게 최적의 학습 도구이다."
   ]
  },
  {
   "cell_type": "markdown",
   "metadata": {
    "bootstrap": {
     "panel": {
      "class": "panel-default"
     }
    },
    "school_cell_uuid": "e0ddfb2f2c39426a94389646c3cd026d"
   },
   "source": [
    "* Scikit-Learn\n",
    "\n",
    "    * 머신러닝 라이브러리\n",
    "    * http://scikit-learn.org\n",
    "    * 2007, David Cournapeau"
   ]
  },
  {
   "cell_type": "markdown",
   "metadata": {
    "school_cell_uuid": "8c007f3ffeca450f97d78791ce0c7607"
   },
   "source": [
    "## TensorFlow"
   ]
  },
  {
   "cell_type": "markdown",
   "metadata": {
    "school_cell_uuid": "e1a27be15d934b88ab3dda0265b12b62"
   },
   "source": [
    "TensorFlow(\"텐서플로우\"라고 읽는다) 패키지는 신경망 모형 등의 딥러닝 모형을 위한 파이썬 패키지이다. 심볼릭 연산과 그래프 연산 모형, GPGPU를 사용한 연산 등을 제공하므로 대량 연산을 필요로 하는 딥러닝 학습에 필수적인 패키지이다. "
   ]
  },
  {
   "cell_type": "markdown",
   "metadata": {
    "bootstrap": {
     "panel": {
      "class": "panel-default"
     }
    },
    "school_cell_uuid": "8864820daa5a4c44b9b922c6c3dd0959"
   },
   "source": [
    "* TensorFlow\n",
    "\n",
    "    * 딥러닝 라이브러리\n",
    "    * https://www.tensorflow.org/\n",
    "    * 2015, google"
   ]
  },
  {
   "cell_type": "markdown",
   "metadata": {
    "school_cell_uuid": "29af173a864e49889da462547c87fc17"
   },
   "source": [
    "## Keras"
   ]
  },
  {
   "cell_type": "markdown",
   "metadata": {
    "school_cell_uuid": "bd27a3ccef8d4f3bae65fb864f1d0453"
   },
   "source": [
    "Keras(\"케라스\"라고 읽는다) 패키지는 TensorFlow 패키지를 쉽게 사용할 수 있도록 도와주는 고수준 패키지이다. Keras를 사용하면  쉽게 신경망 모형을 구현할 수 있다."
   ]
  },
  {
   "cell_type": "markdown",
   "metadata": {
    "bootstrap": {
     "panel": {
      "class": "panel-default"
     }
    },
    "school_cell_uuid": "21dbadaeb83d41d3a4a88cce2decb1fc"
   },
   "source": [
    "* Keras\n",
    "\n",
    "    * 고수준 딥러닝 라이브러리\n",
    "    * https://keras.io/\n",
    "    * 2015, François Chollet"
   ]
  }
 ],
 "metadata": {
  "kernelspec": {
   "display_name": "Python 2",
   "language": "python",
   "name": "python2"
  },
  "language_info": {
   "codemirror_mode": {
    "name": "ipython",
    "version": 2
   },
   "file_extension": ".py",
   "mimetype": "text/x-python",
   "name": "python",
   "nbconvert_exporter": "python",
   "pygments_lexer": "ipython2",
   "version": "2.7.11"
  }
 },
 "nbformat": 4,
 "nbformat_minor": 0
}