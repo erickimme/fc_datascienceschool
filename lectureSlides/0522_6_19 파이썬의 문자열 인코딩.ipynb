{
 "cells": [
  {
   "cell_type": "markdown",
   "metadata": {
    "school_cell_uuid": "d49b243a6a8042c391d1c13d36ecf2af"
   },
   "source": [
    "# 파이썬의 문자열 인코딩"
   ]
  },
  {
   "cell_type": "markdown",
   "metadata": {
    "school_cell_uuid": "45d00d1fcf574bec8b22ca5920438212"
   },
   "source": [
    "## 문자와 인코딩"
   ]
  },
  {
   "cell_type": "markdown",
   "metadata": {
    "school_cell_uuid": "802664b0d3734526af8319f6e914b87f"
   },
   "source": [
    "파이썬 뿐 아니라 모든 컴퓨터에서 문자는 2진 숫자의 열 즉, 바이트 열(byte sequence)로 바뀌어 저장된다. 이를 인코딩(encoding)이라고 하며 어떤 글자를 어떤 숫자로 바꿀지에 대한 규칙을 인코딩 방식이라고 한다. \n",
    "\n",
    "가장 기본이 되는 인코딩 방식은 아스키(ASCII) 방식이다.\n",
    " * http://www.asciitable.com/\n",
    "\n",
    "한글의 경우 과거에는 EUC-KR 방식이 많이 사용되기도 했으나 최근에는 CP949 방식이 더 많이 사용된다.\n",
    " * http://www.kreativekorp.com/charset/encoding.php?name=CP949"
   ]
  },
  {
   "cell_type": "markdown",
   "metadata": {
    "school_cell_uuid": "f02912612e0b4c5ca3002ca66aa15d73"
   },
   "source": [
    "## 유니코드"
   ]
  },
  {
   "cell_type": "markdown",
   "metadata": {
    "school_cell_uuid": "5c815cd2fce94ae295324b93f2a98689"
   },
   "source": [
    "인코딩 방식이 글자마다 혹은 회사마다 다르기 때문에 발생하는 문제를 해결하고자 유니코드라는 것이 만들어졌다. 유니코드에서는 다음과 같은 두 가지 규칙을 정했다.\n",
    "\n",
    "* 유니코드 코드 포인트 (unicode code point)\n",
    "* 유니코드 인코딩 (UTF-8, UTF-16, UTF-32, ...)"
   ]
  },
  {
   "cell_type": "markdown",
   "metadata": {
    "school_cell_uuid": "4b78369f248949a1ae257f32925df9ba"
   },
   "source": [
    "유니코드 코드 포인트(code point) 또는 코드 포지션(code position)은 4 바이트(byte)의 고정된 크기의 술자로 전 세계 모든 글자에 대해 숫자를 대응시킨 것이다. 문서 크기 문제 등으로 직접 문서 파일을 저장할 때는 쓰이지 않고 파이썬 등의 프로그래밍 내에서 문자 데이터를 메모리에 저장할 때 주로 사용된다.\n",
    "\n",
    "유니코드 인코딩은 실제로 유니코드 문자를 바이트 열로 바꾸어 파일에 저장할 때 사용되는 인코딩 방식으로 ASCII 인코딩 방식과 호환성을 가지며 크기, 정렬 등의 문제를 고려하여 설계된 인코딩 방식이다. 과거의 EUC-KR, CP949 등은 한글이라는 문자에 대해 저장할 값을 지정하는 방식이지만 유니코드 인코딩 방식은 유니코드 코드 포인트에 대해 저장할 값을 지정하는 방식이므로 유니코드 코드 포인트를 가지는 모든 글자를 하나의 방식으로 저장할 수 있다. UTF-8은 현재 가장 많이 사용되는 유니코드 인코딩 방식의 하나이다."
   ]
  },
  {
   "cell_type": "markdown",
   "metadata": {
    "school_cell_uuid": "2569dab78523445b9954037b4e5efeb7"
   },
   "source": [
    "## 파이썬의 문자열 자료형"
   ]
  },
  {
   "cell_type": "markdown",
   "metadata": {
    "school_cell_uuid": "fbfaecbdc0f64bb78d31cb64405c5b1a"
   },
   "source": [
    "파이썬 2에서는 기본 문자열 자료형이 바이트 열인 `str` 타입이다. \n",
    "또한 만약 유니코드 포인트 방식으로 저장하는 `unicode` 타입도 지원한다. `str` 타입과 `unicode` 타입간의 변환을 위해서는  다음과\n",
    " 같은 방법을 사용한다.\n",
    "\n",
    "1. `unicode` 명령어로 유니코드 코드 포인트 반환 \n",
    "1. `encode`(인코딩)/`decode`(디코딩) 명령 사용 \n",
    "1. `u` 접두사를 이용한 유니코드 리터럴(literal) 생성\n",
    "\n",
    "Python 3에서는 반대로 `str` 이란 이름의 타입이 유니코드이며 바이트 열로 다음과 같은 명령으로 유니코드 포인트와 인코딩된 바이트 열를 처리한다.\n",
    "\n",
    "1. `bytearray` 명령어로 바이트열 반환 \n",
    "1. `encode`(인코딩)/`decode`(디코딩) 명령 사용 \n",
    "1. `u` 접두사를 이용한 바이트열 리터럴(literal) 생성"
   ]
  },
  {
   "cell_type": "markdown",
   "metadata": {
    "school_cell_uuid": "e03f8d4addcf4d0abdf660cdea3c0791"
   },
   "source": [
    "## Python의 문자열 표시"
   ]
  },
  {
   "cell_type": "markdown",
   "metadata": {
    "school_cell_uuid": "ffe4e349c2f04403ac783c6b731c6b06"
   },
   "source": [
    "파이썬에서 콘솔 혹은 화면에 문자열을 표시하려면 `__repr__()` 메서드 혹은 `print()` 명령을 쓴다.\n",
    "\n",
    "`__repr__()` 메서드는 콘솔 화면에서 문자열 값을 쳤을 때 표시되는 표현(representation)을 출력하고  `print()` 명령은 명시적으로 문자를 표시한다.\n",
    "\n",
    "이 때 영어는 두 방법이 똑같이 글자를 표시하지만 한글의 경우에는 다르다. `__repr__()` 명령은 아스키 테이블로 표시할 수 없는 한글의 경우 바이트 열로 표시하므로 한글로 읽을 수 없으나 `print()` 명령은 가능한 한글을 찾아서 화면에 표시한다.\n",
    "\n",
    "예를 들어 `a` 라는 글자를 그냥 표시하거나 프린트하면 똑같이 보이지만"
   ]
  },
  {
   "cell_type": "code",
   "execution_count": 1,
   "metadata": {
    "collapsed": false,
    "school_cell_uuid": "4775568d0faa48b1870a1ea1e504528c"
   },
   "outputs": [
    {
     "data": {
      "text/plain": [
       "'a'"
      ]
     },
     "execution_count": 1,
     "metadata": {},
     "output_type": "execute_result"
    }
   ],
   "source": [
    "c = \"a\"\n",
    "c"
   ]
  },
  {
   "cell_type": "code",
   "execution_count": 2,
   "metadata": {
    "collapsed": false,
    "school_cell_uuid": "0ffcda76243343f6b353a41ac8677784"
   },
   "outputs": [
    {
     "name": "stdout",
     "output_type": "stream",
     "text": [
      "a\n"
     ]
    }
   ],
   "source": [
    "print(c)"
   ]
  },
  {
   "cell_type": "markdown",
   "metadata": {
    "school_cell_uuid": "25e5ac3146df41eda99939caabb1ccc4"
   },
   "source": [
    "\"가\"라는 글자를 표시할 때는 `__repr__()` 명령은 `0xEAB080` 이라는 값을 표시할 뿐이고 `print` 명령을 해야지 정상적으로 한글을 보여준다. 다만 한글이 리스트나 딕셔너리 안에 원소로 들어있는 경우에는 `print` 명령으로도 볼 수 없고 추후 설명할 konlpy의 `pprint` 명령을 사용해야 한다."
   ]
  },
  {
   "cell_type": "code",
   "execution_count": 3,
   "metadata": {
    "collapsed": false,
    "school_cell_uuid": "aab224464b294ca59c3618a19620217b"
   },
   "outputs": [
    {
     "data": {
      "text/plain": [
       "'\\xea\\xb0\\x80'"
      ]
     },
     "execution_count": 3,
     "metadata": {},
     "output_type": "execute_result"
    }
   ],
   "source": [
    "x = \"가\"\n",
    "x"
   ]
  },
  {
   "cell_type": "code",
   "execution_count": 4,
   "metadata": {
    "collapsed": false,
    "school_cell_uuid": "64abbfe4a3b648cc8223f5c521a15971"
   },
   "outputs": [
    {
     "name": "stdout",
     "output_type": "stream",
     "text": [
      "가\n"
     ]
    }
   ],
   "source": [
    "print(x)"
   ]
  },
  {
   "cell_type": "code",
   "execution_count": 5,
   "metadata": {
    "collapsed": false,
    "school_cell_uuid": "722a7fe16a844d3cb1d9421969108bf4"
   },
   "outputs": [
    {
     "name": "stdout",
     "output_type": "stream",
     "text": [
      "'\\xea\\xb0\\x80'\n"
     ]
    }
   ],
   "source": [
    "print(x.__repr__())"
   ]
  },
  {
   "cell_type": "markdown",
   "metadata": {
    "school_cell_uuid": "95d368f9307a4f80a88e3fde47d312d6"
   },
   "source": [
    "## 유니코드로 한글을 저장해야 하는 이유"
   ]
  },
  {
   "cell_type": "markdown",
   "metadata": {
    "school_cell_uuid": "036da1cab2aa44d8a973dbbb40d0278b"
   },
   "source": [
    "만약 한글 문자열을 단순히 화면에 출력하거나 파일로 내보내기만 하는 것인 목적이라면 굳이 유니코드를 이용할 필요는 없다. 그러나 한글 문자열을 분석해야 한다면 반드시 유니코드로 변환해야 한다. 왜냐하면 유니코드가 아닌 인코딩된 바이트열은 한글의 글자 수를 세거나 글자 단위로 분리하는 것이 어렵기 때문이다.\n",
    "  "
   ]
  },
  {
   "cell_type": "markdown",
   "metadata": {
    "school_cell_uuid": "9c1e7de95a3143eea2c1f59d295c90a6"
   },
   "source": [
    "예를 들어 \"가\"라는 한 글자를 리스트에 넣었을 때, 이 글자가 유니코드이면 리스트의 원소의 수는 1로 계산된다. 하지만 바이트 열이면 인코딩 방식에 따라 달라진다."
   ]
  },
  {
   "cell_type": "code",
   "execution_count": 6,
   "metadata": {
    "collapsed": false,
    "school_cell_uuid": "9021ff286f994275a95f3041f12cb703"
   },
   "outputs": [
    {
     "name": "stdout",
     "output_type": "stream",
     "text": [
      "['\\xea\\xb0\\x80']\n"
     ]
    }
   ],
   "source": [
    "x = [\"가\"]\n",
    "print(x)"
   ]
  },
  {
   "cell_type": "code",
   "execution_count": 7,
   "metadata": {
    "collapsed": false,
    "school_cell_uuid": "36fb8ac935cb4ea1803622a0be6da910"
   },
   "outputs": [
    {
     "data": {
      "text/plain": [
       "3"
      ]
     },
     "execution_count": 7,
     "metadata": {},
     "output_type": "execute_result"
    }
   ],
   "source": [
    "x = \"가\"\n",
    "len(x)"
   ]
  },
  {
   "cell_type": "markdown",
   "metadata": {
    "school_cell_uuid": "b3527ba1d9374c1dba9a7ad24d3c9350"
   },
   "source": [
    "글자를 한글자씩 분리할 수도 없다."
   ]
  },
  {
   "cell_type": "code",
   "execution_count": 14,
   "metadata": {
    "collapsed": false,
    "school_cell_uuid": "3c36966c1d6c4a89896b49f780e6c118"
   },
   "outputs": [
    {
     "name": "stdout",
     "output_type": "stream",
     "text": [
      "3 9\n",
      "A B C\n",
      "� � �\n",
      "� � � �\n"
     ]
    }
   ],
   "source": [
    "x = \"ABC\"\n",
    "y = \"가나다\"\n",
    "print(len(x), len(y))\n",
    "print(x[0], x[1], x[2])\n",
    "print(y[0], y[1], y[2])\n",
    "print(y[0], y[1], y[2], y[3])"
   ]
  },
  {
   "cell_type": "markdown",
   "metadata": {
    "school_cell_uuid": "971bf68974594ff9913ffbc1d336d1d2"
   },
   "source": [
    "## 유니코드 리터럴(Literal)"
   ]
  },
  {
   "cell_type": "markdown",
   "metadata": {
    "school_cell_uuid": "fd00c686fb014674a20769e2d29bd3fe"
   },
   "source": [
    "파이선 코드에서 문자열을 만들 때, 따옴표 앞에 u자를 붙이면 자동으로 유니코드 문자열로 인식하고 내부적으로 유니코드 포인트로 저장"
   ]
  },
  {
   "cell_type": "code",
   "execution_count": 9,
   "metadata": {
    "collapsed": false,
    "school_cell_uuid": "53510e3a103d473fa18e49f057c25e98"
   },
   "outputs": [
    {
     "data": {
      "text/plain": [
       "u'\\uac00'"
      ]
     },
     "execution_count": 9,
     "metadata": {},
     "output_type": "execute_result"
    }
   ],
   "source": [
    "y = u\"가\"\n",
    "y"
   ]
  },
  {
   "cell_type": "code",
   "execution_count": 10,
   "metadata": {
    "collapsed": false,
    "school_cell_uuid": "e73ea1734af943d294f64aabc9666168"
   },
   "outputs": [
    {
     "name": "stdout",
     "output_type": "stream",
     "text": [
      "가\n"
     ]
    }
   ],
   "source": [
    "print(y)"
   ]
  },
  {
   "cell_type": "code",
   "execution_count": 17,
   "metadata": {
    "collapsed": false,
    "school_cell_uuid": "ee7d406e3383412c9f1a59f58d9ac6eb"
   },
   "outputs": [
    {
     "name": "stdout",
     "output_type": "stream",
     "text": [
      "가 나 다\n"
     ]
    }
   ],
   "source": [
    "y = u\"가나다\"\n",
    "print(y[0], y[1], y[2])"
   ]
  },
  {
   "cell_type": "markdown",
   "metadata": {
    "school_cell_uuid": "4b704c853b2b43d7a836b9d548c4a506"
   },
   "source": [
    "## 인코딩(Encoding) / 디코딩(Decoding)"
   ]
  },
  {
   "cell_type": "markdown",
   "metadata": {
    "school_cell_uuid": "571b101e568d46778ec5c1bcb83674a0"
   },
   "source": [
    "유니코드를 바이트열로 변환할 때는 인코드 `encode` 메서드를, 바이트열을 유니코드로 변환할 때는 디코드 `decode` 메서드를 사용한다."
   ]
  },
  {
   "cell_type": "markdown",
   "metadata": {
    "school_cell_uuid": "30204df3ab344d37926a231940c08872"
   },
   "source": [
    "그런데 인코딩을 하는 경우에는 출력 디바이스(콘솔, 주피터 노트북)이 어떤 인코딩을 지원하는지를 미리 알고 있어야 한다. 만약 출력 디바이스가 지원하지 않는 방식으로 인코딩하면 화면에는 이상한 글자만 보이게 될 것이다.\n",
    "\n",
    "예를 들어 현재 저자가 이 코드를 실행하는 주피터 노트북에서는 utf-8 인코딩을 지원한다. 따라서 CP949로 인코딩한 바이트 열은 글자가 깨져서 보이게 된다.  "
   ]
  },
  {
   "cell_type": "code",
   "execution_count": 26,
   "metadata": {
    "collapsed": false,
    "school_cell_uuid": "76486e40c75c419cbe6d6a20814be808"
   },
   "outputs": [
    {
     "name": "stdout",
     "output_type": "stream",
     "text": [
      "<type 'unicode'>\n",
      "<type 'str'>\n",
      "������\n"
     ]
    }
   ],
   "source": [
    "print(type(y))\n",
    "z1 = y.encode(\"cp949\")\n",
    "print(type(z1))\n",
    "print(z1)"
   ]
  },
  {
   "cell_type": "code",
   "execution_count": 27,
   "metadata": {
    "collapsed": false,
    "school_cell_uuid": "e24e5fe2479d4e6f878851551760c292"
   },
   "outputs": [
    {
     "name": "stdout",
     "output_type": "stream",
     "text": [
      "<type 'unicode'>\n",
      "<type 'str'>\n",
      "가나다\n"
     ]
    }
   ],
   "source": [
    "print(type(y))\n",
    "z2 = y.encode(\"utf-8\")\n",
    "print(type(z2))\n",
    "print(z2)"
   ]
  },
  {
   "cell_type": "markdown",
   "metadata": {
    "school_cell_uuid": "12c1c87b1d4144c793d1ffe07560f0f6"
   },
   "source": [
    "디코딩을 할 때도 바이트열이 원래 인코딩된 방식으로 디코딩을 해야 제대로 된 문자열을 얻을 수 있다. "
   ]
  },
  {
   "cell_type": "code",
   "execution_count": 28,
   "metadata": {
    "collapsed": false,
    "school_cell_uuid": "9f83697b153e46b2a846b07787fc347c"
   },
   "outputs": [
    {
     "name": "stdout",
     "output_type": "stream",
     "text": [
      "<type 'str'>\n",
      "<type 'unicode'>\n",
      "가나다\n"
     ]
    }
   ],
   "source": [
    "print(type(z1))\n",
    "y1 = z1.decode(\"cp949\")\n",
    "print(type(y1))\n",
    "print(y1)"
   ]
  },
  {
   "cell_type": "code",
   "execution_count": 29,
   "metadata": {
    "collapsed": false,
    "school_cell_uuid": "a6daaf9a614b4c8b8ec5b5cd0446ec7c"
   },
   "outputs": [
    {
     "name": "stdout",
     "output_type": "stream",
     "text": [
      "<type 'str'>\n",
      "<type 'unicode'>\n",
      "가나다\n"
     ]
    }
   ],
   "source": [
    "print(type(z2))\n",
    "y2 = z2.decode(\"utf-8\")\n",
    "print(type(y2))\n",
    "print(y2)"
   ]
  },
  {
   "cell_type": "markdown",
   "metadata": {
    "school_cell_uuid": "9cab2d49cdb44730867ce46ca7c5df01"
   },
   "source": [
    "## str에 encode 메소드를 적용하면 또는 unicode에 decode 메소드를 적용하면?"
   ]
  },
  {
   "cell_type": "markdown",
   "metadata": {
    "school_cell_uuid": "6b09af7fa584444e8a32a1eb7906cd55"
   },
   "source": [
    "파이썬에서 바이트열과 유니코드를 공부할 때 혼란을 주는 요소 중에 하나는 바이트열 문자열에도 `encode` 메서드가 있고 유니코드 문자열에도 `decode` 메서드가 있다는 점이다. \n",
    "\n",
    "바이트열은 유니코드로 디코딩하는 것만 가능한데 왜 `encode` 메서드가 있을까? 또 유니코드는 바이트열로 인코딩하는 것만 가능한데 왜 `decode` 메서드가 존재할까? 우선 실제로 이 메서드가 동작하는지 확인해 본다. "
   ]
  },
  {
   "cell_type": "code",
   "execution_count": 33,
   "metadata": {
    "collapsed": false,
    "school_cell_uuid": "5758fa8b5a964a38ac2b4be22513ed0f"
   },
   "outputs": [
    {
     "ename": "UnicodeDecodeError",
     "evalue": "'ascii' codec can't decode byte 0xea in position 0: ordinal not in range(128)",
     "output_type": "error",
     "traceback": [
      "\u001b[1;31m\u001b[0m",
      "\u001b[1;31mUnicodeDecodeError\u001b[0mTraceback (most recent call last)",
      "\u001b[1;32m<ipython-input-33-92305fa44153>\u001b[0m in \u001b[0;36m<module>\u001b[1;34m()\u001b[0m\n\u001b[1;32m----> 1\u001b[1;33m \u001b[1;34m\"가\"\u001b[0m\u001b[1;33m.\u001b[0m\u001b[0mencode\u001b[0m\u001b[1;33m(\u001b[0m\u001b[1;34m\"utf-8\"\u001b[0m\u001b[1;33m)\u001b[0m\u001b[1;33m\u001b[0m\u001b[0m\n\u001b[0m",
      "\u001b[1;31mUnicodeDecodeError\u001b[0m: 'ascii' codec can't decode byte 0xea in position 0: ordinal not in range(128)"
     ]
    }
   ],
   "source": [
    "\"가\".encode(\"utf-8\")"
   ]
  },
  {
   "cell_type": "markdown",
   "metadata": {
    "school_cell_uuid": "0c2f4aedf8684155b037500068041deb"
   },
   "source": [
    "일단 바이트열 문자열에 `encode` 메서드가 존재하고 호출된다는 것은 확인하였다. 다만 실행시 한글 바이트열로 테스트하면 위와 같은 오류가 발생한다. 그런데 자세히 보면 위의 에러 메세지가 뭔가 이상하다는 것을 알 수 있다. 분명히 `encode` 메서드를 호출했는데 에러는 `DecodeError`가 발생하였다!   \n",
    "\n",
    "그 이유는 바이트열에 인코딩을 시도하면 실제로는 디코딩을 하여 유니코드로 바꾼 뒤 다시 인코딩을 하려고 하기 때문이다. 이 때 디코딩할 방식을 지정하지 않았기 때문에 가장 기본적인 ASCII 방식으로 디코딩하려고 한다. 그런데 한글은 ASCII로 디코딩이 되지 않으므로 에러가 발생한다. \n",
    "\n",
    "따라서 위 명령은 내부적으로 다음과 같다."
   ]
  },
  {
   "cell_type": "code",
   "execution_count": 34,
   "metadata": {
    "collapsed": false,
    "school_cell_uuid": "370d9d36f8524e4b870add6123894672"
   },
   "outputs": [
    {
     "ename": "UnicodeDecodeError",
     "evalue": "'ascii' codec can't decode byte 0xea in position 0: ordinal not in range(128)",
     "output_type": "error",
     "traceback": [
      "\u001b[1;31m\u001b[0m",
      "\u001b[1;31mUnicodeDecodeError\u001b[0mTraceback (most recent call last)",
      "\u001b[1;32m<ipython-input-34-c07f24263d81>\u001b[0m in \u001b[0;36m<module>\u001b[1;34m()\u001b[0m\n\u001b[1;32m----> 1\u001b[1;33m \u001b[0municode\u001b[0m\u001b[1;33m(\u001b[0m\u001b[1;34m\"가\"\u001b[0m\u001b[1;33m,\u001b[0m \u001b[1;34m\"ascii\"\u001b[0m\u001b[1;33m)\u001b[0m\u001b[1;33m.\u001b[0m\u001b[0mencode\u001b[0m\u001b[1;33m(\u001b[0m\u001b[1;34m\"utf-8\"\u001b[0m\u001b[1;33m)\u001b[0m\u001b[1;33m\u001b[0m\u001b[0m\n\u001b[0m",
      "\u001b[1;31mUnicodeDecodeError\u001b[0m: 'ascii' codec can't decode byte 0xea in position 0: ordinal not in range(128)"
     ]
    }
   ],
   "source": [
    "unicode(\"가\", \"ascii\").encode(\"utf-8\")"
   ]
  },
  {
   "cell_type": "markdown",
   "metadata": {
    "school_cell_uuid": "432a860fccf44bedb96c0f991c0a7d2d"
   },
   "source": [
    "반대의 경우도 마찬가지이다."
   ]
  },
  {
   "cell_type": "code",
   "execution_count": 37,
   "metadata": {
    "collapsed": false,
    "school_cell_uuid": "cd62833ed15945c6bbfeedd9d6cfebd7"
   },
   "outputs": [
    {
     "ename": "UnicodeEncodeError",
     "evalue": "'ascii' codec can't encode character u'\\uac00' in position 0: ordinal not in range(128)",
     "output_type": "error",
     "traceback": [
      "\u001b[1;31m\u001b[0m",
      "\u001b[1;31mUnicodeEncodeError\u001b[0mTraceback (most recent call last)",
      "\u001b[1;32m<ipython-input-37-e1c95bb5b4e2>\u001b[0m in \u001b[0;36m<module>\u001b[1;34m()\u001b[0m\n\u001b[1;32m----> 1\u001b[1;33m \u001b[1;34mu\"가\"\u001b[0m\u001b[1;33m.\u001b[0m\u001b[0mdecode\u001b[0m\u001b[1;33m(\u001b[0m\u001b[1;34m\"utf-8\"\u001b[0m\u001b[1;33m)\u001b[0m\u001b[1;33m\u001b[0m\u001b[0m\n\u001b[0m",
      "\u001b[1;32m/home/joel/anaconda2/lib/python2.7/encodings/utf_8.pyc\u001b[0m in \u001b[0;36mdecode\u001b[1;34m(input, errors)\u001b[0m\n\u001b[0;32m     14\u001b[0m \u001b[1;33m\u001b[0m\u001b[0m\n\u001b[0;32m     15\u001b[0m \u001b[1;32mdef\u001b[0m \u001b[0mdecode\u001b[0m\u001b[1;33m(\u001b[0m\u001b[0minput\u001b[0m\u001b[1;33m,\u001b[0m \u001b[0merrors\u001b[0m\u001b[1;33m=\u001b[0m\u001b[1;34m'strict'\u001b[0m\u001b[1;33m)\u001b[0m\u001b[1;33m:\u001b[0m\u001b[1;33m\u001b[0m\u001b[0m\n\u001b[1;32m---> 16\u001b[1;33m     \u001b[1;32mreturn\u001b[0m \u001b[0mcodecs\u001b[0m\u001b[1;33m.\u001b[0m\u001b[0mutf_8_decode\u001b[0m\u001b[1;33m(\u001b[0m\u001b[0minput\u001b[0m\u001b[1;33m,\u001b[0m \u001b[0merrors\u001b[0m\u001b[1;33m,\u001b[0m \u001b[0mTrue\u001b[0m\u001b[1;33m)\u001b[0m\u001b[1;33m\u001b[0m\u001b[0m\n\u001b[0m\u001b[0;32m     17\u001b[0m \u001b[1;33m\u001b[0m\u001b[0m\n\u001b[0;32m     18\u001b[0m \u001b[1;32mclass\u001b[0m \u001b[0mIncrementalEncoder\u001b[0m\u001b[1;33m(\u001b[0m\u001b[0mcodecs\u001b[0m\u001b[1;33m.\u001b[0m\u001b[0mIncrementalEncoder\u001b[0m\u001b[1;33m)\u001b[0m\u001b[1;33m:\u001b[0m\u001b[1;33m\u001b[0m\u001b[0m\n",
      "\u001b[1;31mUnicodeEncodeError\u001b[0m: 'ascii' codec can't encode character u'\\uac00' in position 0: ordinal not in range(128)"
     ]
    }
   ],
   "source": [
    "u\"가\".decode(\"utf-8\")"
   ]
  },
  {
   "cell_type": "code",
   "execution_count": 38,
   "metadata": {
    "collapsed": false,
    "school_cell_uuid": "a35a359592f84f0397223193d0520587"
   },
   "outputs": [
    {
     "ename": "UnicodeEncodeError",
     "evalue": "'ascii' codec can't encode character u'\\uac00' in position 0: ordinal not in range(128)",
     "output_type": "error",
     "traceback": [
      "\u001b[1;31m\u001b[0m",
      "\u001b[1;31mUnicodeEncodeError\u001b[0mTraceback (most recent call last)",
      "\u001b[1;32m<ipython-input-38-99ffe5d7c928>\u001b[0m in \u001b[0;36m<module>\u001b[1;34m()\u001b[0m\n\u001b[1;32m----> 1\u001b[1;33m \u001b[1;34mu\"가\"\u001b[0m\u001b[1;33m.\u001b[0m\u001b[0mencode\u001b[0m\u001b[1;33m(\u001b[0m\u001b[1;34m\"ascii\"\u001b[0m\u001b[1;33m)\u001b[0m\u001b[1;33m.\u001b[0m\u001b[0mdecode\u001b[0m\u001b[1;33m(\u001b[0m\u001b[1;34m\"utf-8\"\u001b[0m\u001b[1;33m)\u001b[0m\u001b[1;33m\u001b[0m\u001b[0m\n\u001b[0m",
      "\u001b[1;31mUnicodeEncodeError\u001b[0m: 'ascii' codec can't encode character u'\\uac00' in position 0: ordinal not in range(128)"
     ]
    }
   ],
   "source": [
    "u\"가\".encode(\"ascii\").decode(\"utf-8\")"
   ]
  },
  {
   "cell_type": "markdown",
   "metadata": {
    "school_cell_uuid": "c68ab0f9896d418a9884190ca4d51233"
   },
   "source": [
    "## 디폴트 인코딩"
   ]
  },
  {
   "cell_type": "markdown",
   "metadata": {
    "school_cell_uuid": "5f2b81275d2843bd8bf2c465782ea6fe"
   },
   "source": [
    "자신이 현재 사용하고 있는 출력 디바이스가 어떤 인코딩을 지원하는지 알기 위한 방법의 하나는 실제로 인코딩을 해서 나온 결과와 그냥 문자열을 바이트열로 입력해서 나온 결과를 비교하는 것이다.  아래에는 utf-8 인코딩 결과, CP949 인코딩 결과, 그리고 디폴트 인코딩 결과를 비교하고 있다. 이 경우에는 디폴트 인코딩이 utf-8임을 알 수 있다."
   ]
  },
  {
   "cell_type": "code",
   "execution_count": 39,
   "metadata": {
    "collapsed": false,
    "school_cell_uuid": "4a55df0eedcc4ae785ee92cc843778e4"
   },
   "outputs": [
    {
     "data": {
      "text/plain": [
       "('\\xea\\xb0\\x80', '\\xb0\\xa1', '\\xea\\xb0\\x80')"
      ]
     },
     "execution_count": 39,
     "metadata": {},
     "output_type": "execute_result"
    }
   ],
   "source": [
    "u\"가\".encode(\"utf-8\"), u\"가\".encode(\"cp949\"), \"가\""
   ]
  },
  {
   "cell_type": "markdown",
   "metadata": {
    "school_cell_uuid": "91a4306957da420d894c0fef7e9cc95e"
   },
   "source": [
    "만약 윈도우즈 DOS 콘솔에서 파이썬을 실행하고 위의 명령을 실행하면 아마도 CP949 인코딩 결과를 얻을 수 있을 것이다.\n",
    "\n",
    "디폴트 인코딩 방식을 알 수 있는 다른 방법으로는 다음과 같이 `sys` 패키지나 `locale` 패키지를 이용하는 방법도 있다."
   ]
  },
  {
   "cell_type": "code",
   "execution_count": 40,
   "metadata": {
    "collapsed": false,
    "school_cell_uuid": "554a6ff6f2224066b5c68a08ea7419e2"
   },
   "outputs": [
    {
     "name": "stdout",
     "output_type": "stream",
     "text": [
      "ascii\n",
      "None\n",
      "UTF-8\n",
      "UTF-8\n"
     ]
    }
   ],
   "source": [
    "import sys\n",
    "print(sys.getdefaultencoding())\n",
    "print(sys.stdin.encoding)\n",
    "print(sys.stdout.encoding)\n",
    "import locale\n",
    "print(locale.getpreferredencoding())"
   ]
  },
  {
   "cell_type": "markdown",
   "metadata": {
    "school_cell_uuid": "1ead0c585ff44f35bb8926bb759ec31e"
   },
   "source": [
    "## 인코딩 설정"
   ]
  },
  {
   "cell_type": "markdown",
   "metadata": {
    "school_cell_uuid": "411e24c872f144d487654c77ce95cc89"
   },
   "source": [
    "파이썬이 콘솔로 입력된 코드나 스크립트 코드를 읽을 때는 이 코드가 어떤 방식으로 인코딩되어 있는지 알고 있어야 한다. 콘솔 입력의 경우에는 환경 변수 `PYTHONIOENCODING` 로 지정하고 스크립트(파일)의 경우에는 첫줄에 다음과 같이 인코딩 설정 정보를 넣어 주면 된다.\n",
    "\n",
    "```\n",
    "#-*- coding: utf-8 -*-\n",
    "```"
   ]
  }
 ],
 "metadata": {
  "kernelspec": {
   "display_name": "Python 2",
   "language": "python",
   "name": "python2"
  },
  "language_info": {
   "codemirror_mode": {
    "name": "ipython",
    "version": 2
   },
   "file_extension": ".py",
   "mimetype": "text/x-python",
   "name": "python",
   "nbconvert_exporter": "python",
   "pygments_lexer": "ipython2",
   "version": "2.7.11"
  }
 },
 "nbformat": 4,
 "nbformat_minor": 0
}